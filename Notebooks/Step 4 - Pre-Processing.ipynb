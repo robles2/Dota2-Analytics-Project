{
 "cells": [
  {
   "cell_type": "markdown",
   "metadata": {},
   "source": [
    "# Step 4 - Pre-Processing and Training Data"
   ]
  },
  {
   "cell_type": "markdown",
   "metadata": {},
   "source": [
    "## 4.1 Preliminary work in the EDA\n",
    "\n",
    "In previous Notebooks we performed preliminary assessments of data quality and answered two questions in relation with the data:\n",
    "\n",
    "**1) Is there any way that we can cluster the universe of heroes?:**\n",
    "\n",
    "We **clustered heroes** according to median values for certain end game metrics, such as number of kills, deaths, and assists performed by each hero, the amount of gold earned in the game, etc. As a result we defined 3 categories for heroes:\n",
    "\n",
    "* Hero function - setting a total of 6 different hero functions (i.e. Killer, Squishy, etc.)\n",
    "* Hero Farm - setting a total of 3 different farm dependency levels (i.e. Low Farm, Moderate Farm and High Farm)\n",
    "* Hero Powerspike - setting a total of 3 different powerspikes (i.e. Early Game, Mid Game and Late Game)\n",
    "\n",
    "**2) Is there any variable/s that are good indicators of the winning chances of a team?:**\n",
    "\n",
    "We **determined** that an advantage in gold per minute (gpm) and experience per minute (xpm) was critical in success chances, and **winning teams**, regardless of the game duration, **had generally an advantage of gpm and xpm.**\n",
    "\n",
    "## 4.2 Scope\n",
    "\n",
    "In this step we will focus on preparing the data to be input to the supervised learning model:\n",
    "\n",
    "In a **first model** we will work only with information available at the beginning of the match, this is, heroes selected and their categories, based on the clusters generated in the EDA step.\n",
    "\n",
    "In a **second model**, we will include gpm and xpm data at minutes 5, 8, 10, 12 and 15 for each team. This will probably increase the model's accuracy, as we observed that these variables are great indicators on the winning chances. To avoid data leakage, we will limit the information to minute 15 of the game.\n",
    "\n",
    "*Note that gpm and xpm data is not available at the beginning of each match. If we include too many minutes, our predictions will be very good but due to data leakage. To be conservative, we will limit beforehand the data provided to minute 15. As games on average last around 45 minutes, including gpm and xpm information for each team until minute 15 of each game is not very aggressive in terms of data leakage.*\n",
    "\n",
    "**Summary:**\n",
    "\n",
    "In this Notebook, we will build 2 supervised machine learning models, and compare their performance against the mean value as predictor. Having as baseline the mean, we will be able to develop and assess improvements in the subsequent models we will build.\n"
   ]
  },
  {
   "cell_type": "markdown",
   "metadata": {},
   "source": [
    "## 4.3 Imports"
   ]
  },
  {
   "cell_type": "code",
   "execution_count": 1,
   "metadata": {},
   "outputs": [],
   "source": [
    "import pandas as pd\n",
    "import numpy as np\n",
    "import os\n",
    "import pickle\n",
    "import matplotlib.pyplot as plt\n",
    "import seaborn as sns\n",
    "from sklearn import __version__ as sklearn_version\n",
    "from sklearn.decomposition import PCA\n",
    "from sklearn.preprocessing import scale\n",
    "from sklearn.model_selection import train_test_split, cross_validate, GridSearchCV, learning_curve\n",
    "from sklearn.model_selection import cross_val_score\n",
    "from sklearn.preprocessing import StandardScaler, MinMaxScaler\n",
    "from sklearn.dummy import DummyRegressor\n",
    "from sklearn.linear_model import LinearRegression\n",
    "from sklearn.ensemble import RandomForestRegressor\n",
    "from sklearn.ensemble import RandomForestClassifier\n",
    "from sklearn.metrics import r2_score, mean_squared_error, mean_absolute_error\n",
    "from sklearn.pipeline import make_pipeline\n",
    "from sklearn.impute import SimpleImputer\n",
    "from sklearn.feature_selection import SelectKBest, f_regression, f_classif\n",
    "from sklearn import metrics\n",
    "import datetime"
   ]
  },
  {
   "cell_type": "markdown",
   "metadata": {},
   "source": [
    "## 4.4 Load Data\n",
    "\n",
    "We read the 2 files created in the previous step EDA:"
   ]
  },
  {
   "cell_type": "code",
   "execution_count": 2,
   "metadata": {},
   "outputs": [],
   "source": [
    "#csv file containing minute by minute gpm and xpm information per game\n",
    "Time_Data = pd.read_csv(r'C:\\Users\\34658\\SPRINGBOARD\\Dota 2 - Capstone Project\\3.EDA\\Time Data.csv')\n",
    "#csv file containing categories of heroes by match\n",
    "Categories_Data = pd.read_csv(r'C:\\Users\\34658\\SPRINGBOARD\\Dota 2 - Capstone Project\\3.EDA\\Categories Data.csv')"
   ]
  },
  {
   "cell_type": "code",
   "execution_count": 3,
   "metadata": {
    "scrolled": true
   },
   "outputs": [
    {
     "data": {
      "text/html": [
       "<div>\n",
       "<style scoped>\n",
       "    .dataframe tbody tr th:only-of-type {\n",
       "        vertical-align: middle;\n",
       "    }\n",
       "\n",
       "    .dataframe tbody tr th {\n",
       "        vertical-align: top;\n",
       "    }\n",
       "\n",
       "    .dataframe thead th {\n",
       "        text-align: right;\n",
       "    }\n",
       "</style>\n",
       "<table border=\"1\" class=\"dataframe\">\n",
       "  <thead>\n",
       "    <tr style=\"text-align: right;\">\n",
       "      <th></th>\n",
       "      <th>Unnamed: 0</th>\n",
       "      <th>match_id</th>\n",
       "      <th>min</th>\n",
       "      <th>gold_radiant</th>\n",
       "      <th>gold_dire</th>\n",
       "      <th>gpm_radiant</th>\n",
       "      <th>gpm_dire</th>\n",
       "      <th>xp_radiant</th>\n",
       "      <th>xp_dire</th>\n",
       "      <th>xpm_radiant</th>\n",
       "      <th>xpm_dire</th>\n",
       "      <th>diff_gpm</th>\n",
       "      <th>diff_xpm</th>\n",
       "      <th>radiant_win</th>\n",
       "    </tr>\n",
       "  </thead>\n",
       "  <tbody>\n",
       "    <tr>\n",
       "      <th>0</th>\n",
       "      <td>0</td>\n",
       "      <td>0</td>\n",
       "      <td>0.0</td>\n",
       "      <td>0.0</td>\n",
       "      <td>0.0</td>\n",
       "      <td>0.000000</td>\n",
       "      <td>0.000000</td>\n",
       "      <td>0.0</td>\n",
       "      <td>0.0</td>\n",
       "      <td>0.000000</td>\n",
       "      <td>0.0</td>\n",
       "      <td>0.0</td>\n",
       "      <td>0.000000</td>\n",
       "      <td>True</td>\n",
       "    </tr>\n",
       "    <tr>\n",
       "      <th>1</th>\n",
       "      <td>1</td>\n",
       "      <td>0</td>\n",
       "      <td>1.0</td>\n",
       "      <td>222.6</td>\n",
       "      <td>274.0</td>\n",
       "      <td>222.600000</td>\n",
       "      <td>274.000000</td>\n",
       "      <td>138.4</td>\n",
       "      <td>138.4</td>\n",
       "      <td>138.400000</td>\n",
       "      <td>138.4</td>\n",
       "      <td>-51.4</td>\n",
       "      <td>0.000000</td>\n",
       "      <td>True</td>\n",
       "    </tr>\n",
       "    <tr>\n",
       "      <th>2</th>\n",
       "      <td>2</td>\n",
       "      <td>0</td>\n",
       "      <td>2.0</td>\n",
       "      <td>494.2</td>\n",
       "      <td>545.2</td>\n",
       "      <td>247.100000</td>\n",
       "      <td>272.600000</td>\n",
       "      <td>475.2</td>\n",
       "      <td>463.6</td>\n",
       "      <td>237.600000</td>\n",
       "      <td>231.8</td>\n",
       "      <td>-25.5</td>\n",
       "      <td>5.800000</td>\n",
       "      <td>True</td>\n",
       "    </tr>\n",
       "    <tr>\n",
       "      <th>3</th>\n",
       "      <td>3</td>\n",
       "      <td>0</td>\n",
       "      <td>3.0</td>\n",
       "      <td>698.0</td>\n",
       "      <td>811.4</td>\n",
       "      <td>232.666667</td>\n",
       "      <td>270.466667</td>\n",
       "      <td>726.8</td>\n",
       "      <td>708.6</td>\n",
       "      <td>242.266667</td>\n",
       "      <td>236.2</td>\n",
       "      <td>-37.8</td>\n",
       "      <td>6.066667</td>\n",
       "      <td>True</td>\n",
       "    </tr>\n",
       "  </tbody>\n",
       "</table>\n",
       "</div>"
      ],
      "text/plain": [
       "   Unnamed: 0  match_id  min  gold_radiant  gold_dire  gpm_radiant  \\\n",
       "0           0         0  0.0           0.0        0.0     0.000000   \n",
       "1           1         0  1.0         222.6      274.0   222.600000   \n",
       "2           2         0  2.0         494.2      545.2   247.100000   \n",
       "3           3         0  3.0         698.0      811.4   232.666667   \n",
       "\n",
       "     gpm_dire  xp_radiant  xp_dire  xpm_radiant  xpm_dire  diff_gpm  diff_xpm  \\\n",
       "0    0.000000         0.0      0.0     0.000000       0.0       0.0  0.000000   \n",
       "1  274.000000       138.4    138.4   138.400000     138.4     -51.4  0.000000   \n",
       "2  272.600000       475.2    463.6   237.600000     231.8     -25.5  5.800000   \n",
       "3  270.466667       726.8    708.6   242.266667     236.2     -37.8  6.066667   \n",
       "\n",
       "   radiant_win  \n",
       "0         True  \n",
       "1         True  \n",
       "2         True  \n",
       "3         True  "
      ]
     },
     "execution_count": 3,
     "metadata": {},
     "output_type": "execute_result"
    }
   ],
   "source": [
    "#we check the head of time data dataframe\n",
    "Time_Data.head(4)"
   ]
  },
  {
   "cell_type": "code",
   "execution_count": 4,
   "metadata": {},
   "outputs": [
    {
     "data": {
      "text/html": [
       "<div>\n",
       "<style scoped>\n",
       "    .dataframe tbody tr th:only-of-type {\n",
       "        vertical-align: middle;\n",
       "    }\n",
       "\n",
       "    .dataframe tbody tr th {\n",
       "        vertical-align: top;\n",
       "    }\n",
       "\n",
       "    .dataframe thead th {\n",
       "        text-align: right;\n",
       "    }\n",
       "</style>\n",
       "<table border=\"1\" class=\"dataframe\">\n",
       "  <thead>\n",
       "    <tr style=\"text-align: right;\">\n",
       "      <th></th>\n",
       "      <th>Unnamed: 0</th>\n",
       "      <th>index</th>\n",
       "      <th>match_id</th>\n",
       "      <th>player_slot</th>\n",
       "      <th>localized_name</th>\n",
       "      <th>hero_function</th>\n",
       "      <th>hero_powerspike</th>\n",
       "      <th>hero_farm</th>\n",
       "      <th>radiant_win</th>\n",
       "      <th>team</th>\n",
       "      <th>winner</th>\n",
       "    </tr>\n",
       "  </thead>\n",
       "  <tbody>\n",
       "    <tr>\n",
       "      <th>0</th>\n",
       "      <td>0</td>\n",
       "      <td>0</td>\n",
       "      <td>0</td>\n",
       "      <td>0</td>\n",
       "      <td>Rubick</td>\n",
       "      <td>Support killer / Squishy</td>\n",
       "      <td>Early game</td>\n",
       "      <td>Low Farm</td>\n",
       "      <td>True</td>\n",
       "      <td>radiant</td>\n",
       "      <td>1</td>\n",
       "    </tr>\n",
       "    <tr>\n",
       "      <th>1</th>\n",
       "      <td>1</td>\n",
       "      <td>8183</td>\n",
       "      <td>0</td>\n",
       "      <td>1</td>\n",
       "      <td>Clockwerk</td>\n",
       "      <td>Core Killer / Pusher / Squishy</td>\n",
       "      <td>Early game</td>\n",
       "      <td>Low Farm</td>\n",
       "      <td>True</td>\n",
       "      <td>radiant</td>\n",
       "      <td>1</td>\n",
       "    </tr>\n",
       "    <tr>\n",
       "      <th>2</th>\n",
       "      <td>2</td>\n",
       "      <td>12484</td>\n",
       "      <td>0</td>\n",
       "      <td>2</td>\n",
       "      <td>Treant Protector</td>\n",
       "      <td>Support healer / Tank</td>\n",
       "      <td>Early game</td>\n",
       "      <td>Low Farm</td>\n",
       "      <td>True</td>\n",
       "      <td>radiant</td>\n",
       "      <td>1</td>\n",
       "    </tr>\n",
       "    <tr>\n",
       "      <th>3</th>\n",
       "      <td>3</td>\n",
       "      <td>14226</td>\n",
       "      <td>0</td>\n",
       "      <td>3</td>\n",
       "      <td>Shadow Fiend</td>\n",
       "      <td>Core Killer / Pusher/ Tank</td>\n",
       "      <td>Late game</td>\n",
       "      <td>High Farm</td>\n",
       "      <td>True</td>\n",
       "      <td>radiant</td>\n",
       "      <td>1</td>\n",
       "    </tr>\n",
       "  </tbody>\n",
       "</table>\n",
       "</div>"
      ],
      "text/plain": [
       "   Unnamed: 0  index  match_id  player_slot    localized_name  \\\n",
       "0           0      0         0            0            Rubick   \n",
       "1           1   8183         0            1         Clockwerk   \n",
       "2           2  12484         0            2  Treant Protector   \n",
       "3           3  14226         0            3      Shadow Fiend   \n",
       "\n",
       "                    hero_function hero_powerspike  hero_farm  radiant_win  \\\n",
       "0        Support killer / Squishy      Early game   Low Farm         True   \n",
       "1  Core Killer / Pusher / Squishy      Early game   Low Farm         True   \n",
       "2           Support healer / Tank      Early game   Low Farm         True   \n",
       "3      Core Killer / Pusher/ Tank       Late game  High Farm         True   \n",
       "\n",
       "      team  winner  \n",
       "0  radiant       1  \n",
       "1  radiant       1  \n",
       "2  radiant       1  \n",
       "3  radiant       1  "
      ]
     },
     "execution_count": 4,
     "metadata": {},
     "output_type": "execute_result"
    }
   ],
   "source": [
    "#we check the head of categories dataframe\n",
    "Categories_Data.head(4)"
   ]
  },
  {
   "cell_type": "markdown",
   "metadata": {},
   "source": [
    "### 4.4.1 Preprocessing of data\n",
    "\n",
    "The dataframes are not ready to be used in a machine learning model, in particular, there are several rows of information per match and we need them in one row per match.\n",
    "\n",
    "#### 4.4.1.1 Model 1 - Categories Data (heroes selected + count of categories)"
   ]
  },
  {
   "cell_type": "code",
   "execution_count": 5,
   "metadata": {},
   "outputs": [
    {
     "data": {
      "text/html": [
       "<div>\n",
       "<style scoped>\n",
       "    .dataframe tbody tr th:only-of-type {\n",
       "        vertical-align: middle;\n",
       "    }\n",
       "\n",
       "    .dataframe tbody tr th {\n",
       "        vertical-align: top;\n",
       "    }\n",
       "\n",
       "    .dataframe thead th {\n",
       "        text-align: right;\n",
       "    }\n",
       "</style>\n",
       "<table border=\"1\" class=\"dataframe\">\n",
       "  <thead>\n",
       "    <tr style=\"text-align: right;\">\n",
       "      <th></th>\n",
       "      <th>min</th>\n",
       "      <th>gold_radiant</th>\n",
       "      <th>gold_dire</th>\n",
       "      <th>gpm_radiant</th>\n",
       "      <th>gpm_dire</th>\n",
       "      <th>xp_radiant</th>\n",
       "      <th>xp_dire</th>\n",
       "      <th>xpm_radiant</th>\n",
       "      <th>xpm_dire</th>\n",
       "      <th>diff_gpm</th>\n",
       "      <th>diff_xpm</th>\n",
       "      <th>radiant_win</th>\n",
       "    </tr>\n",
       "    <tr>\n",
       "      <th>match_id</th>\n",
       "      <th></th>\n",
       "      <th></th>\n",
       "      <th></th>\n",
       "      <th></th>\n",
       "      <th></th>\n",
       "      <th></th>\n",
       "      <th></th>\n",
       "      <th></th>\n",
       "      <th></th>\n",
       "      <th></th>\n",
       "      <th></th>\n",
       "      <th></th>\n",
       "    </tr>\n",
       "  </thead>\n",
       "  <tbody>\n",
       "    <tr>\n",
       "      <th>0</th>\n",
       "      <td>0.0</td>\n",
       "      <td>0.0</td>\n",
       "      <td>0.0</td>\n",
       "      <td>0.0</td>\n",
       "      <td>0.0</td>\n",
       "      <td>0.0</td>\n",
       "      <td>0.0</td>\n",
       "      <td>0.0</td>\n",
       "      <td>0.0</td>\n",
       "      <td>0.0</td>\n",
       "      <td>0.0</td>\n",
       "      <td>True</td>\n",
       "    </tr>\n",
       "    <tr>\n",
       "      <th>0</th>\n",
       "      <td>1.0</td>\n",
       "      <td>222.6</td>\n",
       "      <td>274.0</td>\n",
       "      <td>222.6</td>\n",
       "      <td>274.0</td>\n",
       "      <td>138.4</td>\n",
       "      <td>138.4</td>\n",
       "      <td>138.4</td>\n",
       "      <td>138.4</td>\n",
       "      <td>-51.4</td>\n",
       "      <td>0.0</td>\n",
       "      <td>True</td>\n",
       "    </tr>\n",
       "  </tbody>\n",
       "</table>\n",
       "</div>"
      ],
      "text/plain": [
       "          min  gold_radiant  gold_dire  gpm_radiant  gpm_dire  xp_radiant  \\\n",
       "match_id                                                                    \n",
       "0         0.0           0.0        0.0          0.0       0.0         0.0   \n",
       "0         1.0         222.6      274.0        222.6     274.0       138.4   \n",
       "\n",
       "          xp_dire  xpm_radiant  xpm_dire  diff_gpm  diff_xpm  radiant_win  \n",
       "match_id                                                                   \n",
       "0             0.0          0.0       0.0       0.0       0.0         True  \n",
       "0           138.4        138.4     138.4     -51.4       0.0         True  "
      ]
     },
     "execution_count": 5,
     "metadata": {},
     "output_type": "execute_result"
    }
   ],
   "source": [
    "#we drop the column Unnamed: 0\n",
    "Time_Data = Time_Data.drop(['Unnamed: 0'], axis=1)\n",
    "#we set the match_id as index\n",
    "Time_Data.set_index('match_id', inplace=True)\n",
    "#create td variable for quicker access later on\n",
    "td = Time_Data\n",
    "td.head(2)"
   ]
  },
  {
   "cell_type": "code",
   "execution_count": 6,
   "metadata": {},
   "outputs": [
    {
     "data": {
      "text/plain": [
       "(22096541, 12)"
      ]
     },
     "execution_count": 6,
     "metadata": {},
     "output_type": "execute_result"
    }
   ],
   "source": [
    "#check the shape, 12 columns and 2.2 million rows.\n",
    "td.shape"
   ]
  },
  {
   "cell_type": "code",
   "execution_count": 7,
   "metadata": {},
   "outputs": [
    {
     "data": {
      "text/html": [
       "<div>\n",
       "<style scoped>\n",
       "    .dataframe tbody tr th:only-of-type {\n",
       "        vertical-align: middle;\n",
       "    }\n",
       "\n",
       "    .dataframe tbody tr th {\n",
       "        vertical-align: top;\n",
       "    }\n",
       "\n",
       "    .dataframe thead th {\n",
       "        text-align: right;\n",
       "    }\n",
       "</style>\n",
       "<table border=\"1\" class=\"dataframe\">\n",
       "  <thead>\n",
       "    <tr style=\"text-align: right;\">\n",
       "      <th></th>\n",
       "      <th>player_slot</th>\n",
       "      <th>localized_name</th>\n",
       "      <th>hero_function</th>\n",
       "      <th>hero_powerspike</th>\n",
       "      <th>hero_farm</th>\n",
       "      <th>radiant_win</th>\n",
       "      <th>team</th>\n",
       "      <th>winner</th>\n",
       "    </tr>\n",
       "    <tr>\n",
       "      <th>match_id</th>\n",
       "      <th></th>\n",
       "      <th></th>\n",
       "      <th></th>\n",
       "      <th></th>\n",
       "      <th></th>\n",
       "      <th></th>\n",
       "      <th></th>\n",
       "      <th></th>\n",
       "    </tr>\n",
       "  </thead>\n",
       "  <tbody>\n",
       "    <tr>\n",
       "      <th>0</th>\n",
       "      <td>0</td>\n",
       "      <td>Rubick</td>\n",
       "      <td>Support killer / Squishy</td>\n",
       "      <td>Early game</td>\n",
       "      <td>Low Farm</td>\n",
       "      <td>True</td>\n",
       "      <td>radiant</td>\n",
       "      <td>1</td>\n",
       "    </tr>\n",
       "    <tr>\n",
       "      <th>0</th>\n",
       "      <td>1</td>\n",
       "      <td>Clockwerk</td>\n",
       "      <td>Core Killer / Pusher / Squishy</td>\n",
       "      <td>Early game</td>\n",
       "      <td>Low Farm</td>\n",
       "      <td>True</td>\n",
       "      <td>radiant</td>\n",
       "      <td>1</td>\n",
       "    </tr>\n",
       "  </tbody>\n",
       "</table>\n",
       "</div>"
      ],
      "text/plain": [
       "          player_slot localized_name                   hero_function  \\\n",
       "match_id                                                               \n",
       "0                   0         Rubick        Support killer / Squishy   \n",
       "0                   1      Clockwerk  Core Killer / Pusher / Squishy   \n",
       "\n",
       "         hero_powerspike hero_farm  radiant_win     team  winner  \n",
       "match_id                                                          \n",
       "0             Early game  Low Farm         True  radiant       1  \n",
       "0             Early game  Low Farm         True  radiant       1  "
      ]
     },
     "execution_count": 7,
     "metadata": {},
     "output_type": "execute_result"
    }
   ],
   "source": [
    "#drop column Unnamed: 0 and set index to match_id\n",
    "Categories_Data = Categories_Data.drop(['Unnamed: 0','index'], axis=1)\n",
    "Categories_Data = Categories_Data.set_index('match_id')\n",
    "#we create variable cd for quicker access later on and check the head\n",
    "cd = Categories_Data\n",
    "cd.head(2)"
   ]
  },
  {
   "cell_type": "code",
   "execution_count": 8,
   "metadata": {},
   "outputs": [
    {
     "data": {
      "text/plain": [
       "player_slot         int64\n",
       "localized_name     object\n",
       "hero_function      object\n",
       "hero_powerspike    object\n",
       "hero_farm          object\n",
       "radiant_win          bool\n",
       "team               object\n",
       "winner              int64\n",
       "dtype: object"
      ]
     },
     "execution_count": 8,
     "metadata": {},
     "output_type": "execute_result"
    }
   ],
   "source": [
    "#we check the data types to convert them to categories.\n",
    "cd.dtypes"
   ]
  },
  {
   "cell_type": "code",
   "execution_count": 9,
   "metadata": {},
   "outputs": [],
   "source": [
    "#we convert the columns that are objects into categories\n",
    "for col in ['localized_name', 'hero_function', 'hero_powerspike', 'hero_farm']:\n",
    "    cd[col] = cd[col].astype('category')"
   ]
  },
  {
   "cell_type": "code",
   "execution_count": 10,
   "metadata": {
    "scrolled": true
   },
   "outputs": [
    {
     "data": {
      "text/plain": [
       "player_slot           int64\n",
       "localized_name     category\n",
       "hero_function      category\n",
       "hero_powerspike    category\n",
       "hero_farm          category\n",
       "radiant_win            bool\n",
       "team                 object\n",
       "winner                int64\n",
       "dtype: object"
      ]
     },
     "execution_count": 10,
     "metadata": {},
     "output_type": "execute_result"
    }
   ],
   "source": [
    "cd.dtypes"
   ]
  },
  {
   "cell_type": "code",
   "execution_count": 11,
   "metadata": {},
   "outputs": [
    {
     "data": {
      "text/html": [
       "<div>\n",
       "<style scoped>\n",
       "    .dataframe tbody tr th:only-of-type {\n",
       "        vertical-align: middle;\n",
       "    }\n",
       "\n",
       "    .dataframe tbody tr th {\n",
       "        vertical-align: top;\n",
       "    }\n",
       "\n",
       "    .dataframe thead th {\n",
       "        text-align: right;\n",
       "    }\n",
       "</style>\n",
       "<table border=\"1\" class=\"dataframe\">\n",
       "  <thead>\n",
       "    <tr style=\"text-align: right;\">\n",
       "      <th></th>\n",
       "      <th>player_slot</th>\n",
       "      <th>localized_name</th>\n",
       "      <th>hero_function</th>\n",
       "      <th>hero_powerspike</th>\n",
       "      <th>hero_farm</th>\n",
       "      <th>radiant_win</th>\n",
       "      <th>team</th>\n",
       "      <th>winner</th>\n",
       "    </tr>\n",
       "    <tr>\n",
       "      <th>match_id</th>\n",
       "      <th></th>\n",
       "      <th></th>\n",
       "      <th></th>\n",
       "      <th></th>\n",
       "      <th></th>\n",
       "      <th></th>\n",
       "      <th></th>\n",
       "      <th></th>\n",
       "    </tr>\n",
       "  </thead>\n",
       "  <tbody>\n",
       "    <tr>\n",
       "      <th>0</th>\n",
       "      <td>0</td>\n",
       "      <td>Rubick</td>\n",
       "      <td>Support killer / Squishy</td>\n",
       "      <td>Early game</td>\n",
       "      <td>Low Farm</td>\n",
       "      <td>True</td>\n",
       "      <td>radiant</td>\n",
       "      <td>1</td>\n",
       "    </tr>\n",
       "    <tr>\n",
       "      <th>0</th>\n",
       "      <td>1</td>\n",
       "      <td>Clockwerk</td>\n",
       "      <td>Core Killer / Pusher / Squishy</td>\n",
       "      <td>Early game</td>\n",
       "      <td>Low Farm</td>\n",
       "      <td>True</td>\n",
       "      <td>radiant</td>\n",
       "      <td>1</td>\n",
       "    </tr>\n",
       "    <tr>\n",
       "      <th>0</th>\n",
       "      <td>2</td>\n",
       "      <td>Treant Protector</td>\n",
       "      <td>Support healer / Tank</td>\n",
       "      <td>Early game</td>\n",
       "      <td>Low Farm</td>\n",
       "      <td>True</td>\n",
       "      <td>radiant</td>\n",
       "      <td>1</td>\n",
       "    </tr>\n",
       "    <tr>\n",
       "      <th>0</th>\n",
       "      <td>3</td>\n",
       "      <td>Shadow Fiend</td>\n",
       "      <td>Core Killer / Pusher/ Tank</td>\n",
       "      <td>Late game</td>\n",
       "      <td>High Farm</td>\n",
       "      <td>True</td>\n",
       "      <td>radiant</td>\n",
       "      <td>1</td>\n",
       "    </tr>\n",
       "  </tbody>\n",
       "</table>\n",
       "</div>"
      ],
      "text/plain": [
       "          player_slot    localized_name                   hero_function  \\\n",
       "match_id                                                                  \n",
       "0                   0            Rubick        Support killer / Squishy   \n",
       "0                   1         Clockwerk  Core Killer / Pusher / Squishy   \n",
       "0                   2  Treant Protector           Support healer / Tank   \n",
       "0                   3      Shadow Fiend      Core Killer / Pusher/ Tank   \n",
       "\n",
       "         hero_powerspike  hero_farm  radiant_win     team  winner  \n",
       "match_id                                                           \n",
       "0             Early game   Low Farm         True  radiant       1  \n",
       "0             Early game   Low Farm         True  radiant       1  \n",
       "0             Early game   Low Farm         True  radiant       1  \n",
       "0              Late game  High Farm         True  radiant       1  "
      ]
     },
     "execution_count": 11,
     "metadata": {},
     "output_type": "execute_result"
    }
   ],
   "source": [
    "#we convert the object to dataframe and check the head\n",
    "cd = pd.DataFrame(cd)\n",
    "cd.head(4)"
   ]
  },
  {
   "cell_type": "markdown",
   "metadata": {},
   "source": [
    "What we want is to have a final categories dataframe that includes all the information per team in one row per game. To do this, we need to have several radiant columns and several dire columns. In particular:\n",
    "\n",
    "* 1 radiant column per possible hero (111 columns), with 1 if it was selected and 0 if it was not selected;\n",
    "* 1 radiant column per hero function (6 columns), with an integer from 0 to 5, meaning how many heroes of that function were selected in radiant team;\n",
    "* 1 radiant column per farm dependency (3 columns), with an integer from 0 to 5, meaning how many heroes of that farm dependency were selected in radiant team; and\n",
    "* 1 radiant column per hero powerspike (3 columns), with an integer from 0 to 5, meaning how many heroes of that powerspike were selected in radiant team.\n",
    "\n",
    "The same nº of columns will be included for dire team, following this same logic above.\n",
    "\n",
    "In order to obtain that dataframe, we will create separately team radiant and team dire columns and join them at the end side by side, based on the match_id."
   ]
  },
  {
   "cell_type": "code",
   "execution_count": 12,
   "metadata": {},
   "outputs": [],
   "source": [
    "#we split the dataset into radiant and dire teams\n",
    "cd_rad = cd[cd['team']=='radiant']\n",
    "cd_dire = cd[cd['team']=='dire']"
   ]
  },
  {
   "cell_type": "code",
   "execution_count": 13,
   "metadata": {},
   "outputs": [
    {
     "data": {
      "text/plain": [
       "Index(['player_slot', 'localized_name', 'hero_function', 'hero_powerspike',\n",
       "       'hero_farm', 'radiant_win', 'team', 'winner'],\n",
       "      dtype='object')"
      ]
     },
     "execution_count": 13,
     "metadata": {},
     "output_type": "execute_result"
    }
   ],
   "source": [
    "cd_rad.columns"
   ]
  },
  {
   "cell_type": "code",
   "execution_count": 14,
   "metadata": {},
   "outputs": [],
   "source": [
    "#we first rename the columns of each dataframe to include the \"rad_\" and \"dir_\" prefix to join them later on\n",
    "cd_rad = cd_rad.rename(columns={\"player_slot\": \"rad_slot\", \"localized_name\": \"rad_hero\", \"hero_function\": \"rad_hfu\", \"hero_powerspike\": \"rad_hps\", \"hero_farm\": \"rad_hfa\"})\n",
    "cd_dire = cd_dire.rename(columns={\"player_slot\": \"dir_slot\", \"localized_name\": \"dir_hero\", \"hero_function\": \"dir_hfu\", \"hero_powerspike\": \"dir_hps\", \"hero_farm\": \"dir_hfa\"})"
   ]
  },
  {
   "cell_type": "code",
   "execution_count": 15,
   "metadata": {
    "scrolled": true
   },
   "outputs": [
    {
     "data": {
      "text/html": [
       "<div>\n",
       "<style scoped>\n",
       "    .dataframe tbody tr th:only-of-type {\n",
       "        vertical-align: middle;\n",
       "    }\n",
       "\n",
       "    .dataframe tbody tr th {\n",
       "        vertical-align: top;\n",
       "    }\n",
       "\n",
       "    .dataframe thead th {\n",
       "        text-align: right;\n",
       "    }\n",
       "</style>\n",
       "<table border=\"1\" class=\"dataframe\">\n",
       "  <thead>\n",
       "    <tr style=\"text-align: right;\">\n",
       "      <th></th>\n",
       "      <th>rad_slot</th>\n",
       "      <th>rad_hero</th>\n",
       "      <th>rad_hfu</th>\n",
       "      <th>rad_hps</th>\n",
       "      <th>rad_hfa</th>\n",
       "      <th>radiant_win</th>\n",
       "      <th>team</th>\n",
       "      <th>winner</th>\n",
       "    </tr>\n",
       "    <tr>\n",
       "      <th>match_id</th>\n",
       "      <th></th>\n",
       "      <th></th>\n",
       "      <th></th>\n",
       "      <th></th>\n",
       "      <th></th>\n",
       "      <th></th>\n",
       "      <th></th>\n",
       "      <th></th>\n",
       "    </tr>\n",
       "  </thead>\n",
       "  <tbody>\n",
       "    <tr>\n",
       "      <th>0</th>\n",
       "      <td>0</td>\n",
       "      <td>Rubick</td>\n",
       "      <td>Support killer / Squishy</td>\n",
       "      <td>Early game</td>\n",
       "      <td>Low Farm</td>\n",
       "      <td>True</td>\n",
       "      <td>radiant</td>\n",
       "      <td>1</td>\n",
       "    </tr>\n",
       "    <tr>\n",
       "      <th>0</th>\n",
       "      <td>1</td>\n",
       "      <td>Clockwerk</td>\n",
       "      <td>Core Killer / Pusher / Squishy</td>\n",
       "      <td>Early game</td>\n",
       "      <td>Low Farm</td>\n",
       "      <td>True</td>\n",
       "      <td>radiant</td>\n",
       "      <td>1</td>\n",
       "    </tr>\n",
       "    <tr>\n",
       "      <th>0</th>\n",
       "      <td>2</td>\n",
       "      <td>Treant Protector</td>\n",
       "      <td>Support healer / Tank</td>\n",
       "      <td>Early game</td>\n",
       "      <td>Low Farm</td>\n",
       "      <td>True</td>\n",
       "      <td>radiant</td>\n",
       "      <td>1</td>\n",
       "    </tr>\n",
       "  </tbody>\n",
       "</table>\n",
       "</div>"
      ],
      "text/plain": [
       "          rad_slot          rad_hero                         rad_hfu  \\\n",
       "match_id                                                               \n",
       "0                0            Rubick        Support killer / Squishy   \n",
       "0                1         Clockwerk  Core Killer / Pusher / Squishy   \n",
       "0                2  Treant Protector           Support healer / Tank   \n",
       "\n",
       "             rad_hps   rad_hfa  radiant_win     team  winner  \n",
       "match_id                                                      \n",
       "0         Early game  Low Farm         True  radiant       1  \n",
       "0         Early game  Low Farm         True  radiant       1  \n",
       "0         Early game  Low Farm         True  radiant       1  "
      ]
     },
     "execution_count": 15,
     "metadata": {},
     "output_type": "execute_result"
    }
   ],
   "source": [
    "cd_rad.head(3)"
   ]
  },
  {
   "cell_type": "code",
   "execution_count": 16,
   "metadata": {},
   "outputs": [],
   "source": [
    "#we create the dummies (binary) columns on each column for radiant team\n",
    "cd_rad_hero = pd.get_dummies(cd_rad['rad_hero'])\n",
    "cd_rad_fu = pd.get_dummies(cd_rad['rad_hfu'])\n",
    "cd_rad_ps = pd.get_dummies(cd_rad['rad_hps'])\n",
    "cd_rad_fa = pd.get_dummies(cd_rad['rad_hfa'])"
   ]
  },
  {
   "cell_type": "code",
   "execution_count": 17,
   "metadata": {},
   "outputs": [],
   "source": [
    "#we create the dummies (binary) columns on each column for dire team\n",
    "cd_dire_hero = pd.get_dummies(cd_dire['dir_hero'])\n",
    "cd_dire_fu = pd.get_dummies(cd_dire['dir_hfu'])\n",
    "cd_dire_ps = pd.get_dummies(cd_dire['dir_hps'])\n",
    "cd_dire_fa = pd.get_dummies(cd_dire['dir_hfa'])"
   ]
  },
  {
   "cell_type": "code",
   "execution_count": 18,
   "metadata": {},
   "outputs": [],
   "source": [
    "#We add up by match, for radiant team, each column.\n",
    "cd_rad_hero1 = cd_rad_hero.groupby('match_id').sum()\n",
    "#This will show the nº of heroes with each function\n",
    "cd_rad_fu1 = cd_rad_fu.groupby('match_id').sum()\n",
    "#This will show the nº of heroes with each powerspike\n",
    "cd_rad_ps1 = cd_rad_ps.groupby('match_id').sum()\n",
    "#This will show the nº of heroes with each farm dependency\n",
    "cd_rad_fa1 = cd_rad_fa.groupby('match_id').sum()\n",
    "\n",
    "#We add up by match, for dire team, each column.\n",
    "cd_dire_hero1 = cd_dire_hero.groupby('match_id').sum()\n",
    "#This will show the nº of heroes with each function\n",
    "cd_dire_fu1 = cd_dire_fu.groupby('match_id').sum()\n",
    "#This will show the nº of heroes with each powerspike\n",
    "cd_dire_ps1 = cd_dire_ps.groupby('match_id').sum()\n",
    "#This will show the nº of heroes with each farm dependency\n",
    "cd_dire_fa1 = cd_dire_fa.groupby('match_id').sum()"
   ]
  },
  {
   "cell_type": "code",
   "execution_count": 19,
   "metadata": {},
   "outputs": [],
   "source": [
    "#we add radiant prefix to column names\n",
    "cd_rad_hero1.columns = ['radiant_' + str(col)  for col in cd_rad_hero1.columns]\n",
    "cd_rad_fu1.columns = ['radiant_' + str(col) for col in cd_rad_fu1.columns]\n",
    "cd_rad_ps1.columns = ['radiant_' + str(col) for col in cd_rad_ps1.columns]\n",
    "cd_rad_fa1.columns = ['radiant_' + str(col) for col in cd_rad_fa1.columns]\n",
    "\n",
    "#we add dire prefix to column names\n",
    "cd_dire_hero1.columns = ['dire_' + str(col) for col in cd_dire_hero1.columns]\n",
    "cd_dire_fu1.columns = ['dire_' + str(col) for col in cd_dire_fu1.columns]\n",
    "cd_dire_ps1.columns = ['dire_' + str(col) for col in cd_dire_ps1.columns]\n",
    "cd_dire_fa1.columns = ['dire_' + str(col) for col in cd_dire_fa1.columns]"
   ]
  },
  {
   "cell_type": "markdown",
   "metadata": {},
   "source": [
    "As a final step, we join each dummies dataframe side by side, so that we will have a total of one row per match_id, as we initially wanted. This will allow us to input the data into the machine learning model."
   ]
  },
  {
   "cell_type": "code",
   "execution_count": 20,
   "metadata": {},
   "outputs": [
    {
     "data": {
      "text/html": [
       "<div>\n",
       "<style scoped>\n",
       "    .dataframe tbody tr th:only-of-type {\n",
       "        vertical-align: middle;\n",
       "    }\n",
       "\n",
       "    .dataframe tbody tr th {\n",
       "        vertical-align: top;\n",
       "    }\n",
       "\n",
       "    .dataframe thead th {\n",
       "        text-align: right;\n",
       "    }\n",
       "</style>\n",
       "<table border=\"1\" class=\"dataframe\">\n",
       "  <thead>\n",
       "    <tr style=\"text-align: right;\">\n",
       "      <th></th>\n",
       "      <th>radiant_Abaddon</th>\n",
       "      <th>radiant_Alchemist</th>\n",
       "      <th>radiant_Ancient Apparition</th>\n",
       "      <th>radiant_Anti-Mage</th>\n",
       "      <th>radiant_Axe</th>\n",
       "      <th>radiant_Bane</th>\n",
       "      <th>radiant_Batrider</th>\n",
       "      <th>radiant_Beastmaster</th>\n",
       "      <th>radiant_Bloodseeker</th>\n",
       "      <th>radiant_Bounty Hunter</th>\n",
       "      <th>...</th>\n",
       "      <th>radiant_Mid game</th>\n",
       "      <th>dire_Early game</th>\n",
       "      <th>dire_Late game</th>\n",
       "      <th>dire_Mid game</th>\n",
       "      <th>radiant_High Farm</th>\n",
       "      <th>radiant_Low Farm</th>\n",
       "      <th>radiant_Moderate Farm</th>\n",
       "      <th>dire_High Farm</th>\n",
       "      <th>dire_Low Farm</th>\n",
       "      <th>dire_Moderate Farm</th>\n",
       "    </tr>\n",
       "    <tr>\n",
       "      <th>match_id</th>\n",
       "      <th></th>\n",
       "      <th></th>\n",
       "      <th></th>\n",
       "      <th></th>\n",
       "      <th></th>\n",
       "      <th></th>\n",
       "      <th></th>\n",
       "      <th></th>\n",
       "      <th></th>\n",
       "      <th></th>\n",
       "      <th></th>\n",
       "      <th></th>\n",
       "      <th></th>\n",
       "      <th></th>\n",
       "      <th></th>\n",
       "      <th></th>\n",
       "      <th></th>\n",
       "      <th></th>\n",
       "      <th></th>\n",
       "      <th></th>\n",
       "      <th></th>\n",
       "    </tr>\n",
       "  </thead>\n",
       "  <tbody>\n",
       "    <tr>\n",
       "      <th>0</th>\n",
       "      <td>0</td>\n",
       "      <td>0</td>\n",
       "      <td>0</td>\n",
       "      <td>0</td>\n",
       "      <td>0</td>\n",
       "      <td>0</td>\n",
       "      <td>0</td>\n",
       "      <td>0</td>\n",
       "      <td>0</td>\n",
       "      <td>0</td>\n",
       "      <td>...</td>\n",
       "      <td>0</td>\n",
       "      <td>1</td>\n",
       "      <td>2</td>\n",
       "      <td>2</td>\n",
       "      <td>2</td>\n",
       "      <td>3</td>\n",
       "      <td>0</td>\n",
       "      <td>2</td>\n",
       "      <td>1</td>\n",
       "      <td>2</td>\n",
       "    </tr>\n",
       "    <tr>\n",
       "      <th>1</th>\n",
       "      <td>0</td>\n",
       "      <td>0</td>\n",
       "      <td>0</td>\n",
       "      <td>0</td>\n",
       "      <td>0</td>\n",
       "      <td>0</td>\n",
       "      <td>0</td>\n",
       "      <td>0</td>\n",
       "      <td>0</td>\n",
       "      <td>0</td>\n",
       "      <td>...</td>\n",
       "      <td>2</td>\n",
       "      <td>1</td>\n",
       "      <td>2</td>\n",
       "      <td>2</td>\n",
       "      <td>1</td>\n",
       "      <td>2</td>\n",
       "      <td>2</td>\n",
       "      <td>2</td>\n",
       "      <td>1</td>\n",
       "      <td>2</td>\n",
       "    </tr>\n",
       "    <tr>\n",
       "      <th>2</th>\n",
       "      <td>0</td>\n",
       "      <td>0</td>\n",
       "      <td>0</td>\n",
       "      <td>0</td>\n",
       "      <td>0</td>\n",
       "      <td>0</td>\n",
       "      <td>0</td>\n",
       "      <td>0</td>\n",
       "      <td>0</td>\n",
       "      <td>0</td>\n",
       "      <td>...</td>\n",
       "      <td>2</td>\n",
       "      <td>3</td>\n",
       "      <td>0</td>\n",
       "      <td>2</td>\n",
       "      <td>1</td>\n",
       "      <td>2</td>\n",
       "      <td>2</td>\n",
       "      <td>0</td>\n",
       "      <td>3</td>\n",
       "      <td>2</td>\n",
       "    </tr>\n",
       "  </tbody>\n",
       "</table>\n",
       "<p>3 rows × 244 columns</p>\n",
       "</div>"
      ],
      "text/plain": [
       "          radiant_Abaddon  radiant_Alchemist  radiant_Ancient Apparition  \\\n",
       "match_id                                                                   \n",
       "0                       0                  0                           0   \n",
       "1                       0                  0                           0   \n",
       "2                       0                  0                           0   \n",
       "\n",
       "          radiant_Anti-Mage  radiant_Axe  radiant_Bane  radiant_Batrider  \\\n",
       "match_id                                                                   \n",
       "0                         0            0             0                 0   \n",
       "1                         0            0             0                 0   \n",
       "2                         0            0             0                 0   \n",
       "\n",
       "          radiant_Beastmaster  radiant_Bloodseeker  radiant_Bounty Hunter  \\\n",
       "match_id                                                                    \n",
       "0                           0                    0                      0   \n",
       "1                           0                    0                      0   \n",
       "2                           0                    0                      0   \n",
       "\n",
       "          ...  radiant_Mid game  dire_Early game  dire_Late game  \\\n",
       "match_id  ...                                                      \n",
       "0         ...                 0                1               2   \n",
       "1         ...                 2                1               2   \n",
       "2         ...                 2                3               0   \n",
       "\n",
       "          dire_Mid game  radiant_High Farm  radiant_Low Farm  \\\n",
       "match_id                                                       \n",
       "0                     2                  2                 3   \n",
       "1                     2                  1                 2   \n",
       "2                     2                  1                 2   \n",
       "\n",
       "          radiant_Moderate Farm  dire_High Farm  dire_Low Farm  \\\n",
       "match_id                                                         \n",
       "0                             0               2              1   \n",
       "1                             2               2              1   \n",
       "2                             2               0              3   \n",
       "\n",
       "          dire_Moderate Farm  \n",
       "match_id                      \n",
       "0                          2  \n",
       "1                          2  \n",
       "2                          2  \n",
       "\n",
       "[3 rows x 244 columns]"
      ]
     },
     "execution_count": 20,
     "metadata": {},
     "output_type": "execute_result"
    }
   ],
   "source": [
    "#we concatenate all the dummies dataframes for radiant and dire teams\n",
    "cd_ml = pd.concat([cd_rad_hero1,cd_dire_hero1,cd_rad_fu1,cd_dire_fu1,cd_rad_ps1,cd_dire_ps1,cd_rad_fa1,cd_dire_fa1],axis=1)\n",
    "#we check the head to ensure it is in the format that we need\n",
    "cd_ml.head(3)"
   ]
  },
  {
   "cell_type": "markdown",
   "metadata": {},
   "source": [
    "Lately, we add the information about the target variable, this is, what team won each match. We have this information from the previous cd dataframe."
   ]
  },
  {
   "cell_type": "code",
   "execution_count": 21,
   "metadata": {
    "scrolled": false
   },
   "outputs": [],
   "source": [
    "#we will bring the radiant_win column data to this dataframe\n",
    "winner = cd[['radiant_win']]"
   ]
  },
  {
   "cell_type": "code",
   "execution_count": 22,
   "metadata": {},
   "outputs": [],
   "source": [
    "#we reset the index\n",
    "winner.reset_index(inplace=True)\n",
    "#we drop any duplicate values that we may have\n",
    "winner = winner.drop_duplicates()"
   ]
  },
  {
   "cell_type": "code",
   "execution_count": 23,
   "metadata": {},
   "outputs": [
    {
     "data": {
      "text/html": [
       "<div>\n",
       "<style scoped>\n",
       "    .dataframe tbody tr th:only-of-type {\n",
       "        vertical-align: middle;\n",
       "    }\n",
       "\n",
       "    .dataframe tbody tr th {\n",
       "        vertical-align: top;\n",
       "    }\n",
       "\n",
       "    .dataframe thead th {\n",
       "        text-align: right;\n",
       "    }\n",
       "</style>\n",
       "<table border=\"1\" class=\"dataframe\">\n",
       "  <thead>\n",
       "    <tr style=\"text-align: right;\">\n",
       "      <th></th>\n",
       "      <th>radiant_win</th>\n",
       "    </tr>\n",
       "    <tr>\n",
       "      <th>match_id</th>\n",
       "      <th></th>\n",
       "    </tr>\n",
       "  </thead>\n",
       "  <tbody>\n",
       "    <tr>\n",
       "      <th>0</th>\n",
       "      <td>True</td>\n",
       "    </tr>\n",
       "    <tr>\n",
       "      <th>1</th>\n",
       "      <td>False</td>\n",
       "    </tr>\n",
       "    <tr>\n",
       "      <th>2</th>\n",
       "      <td>False</td>\n",
       "    </tr>\n",
       "  </tbody>\n",
       "</table>\n",
       "</div>"
      ],
      "text/plain": [
       "          radiant_win\n",
       "match_id             \n",
       "0                True\n",
       "1               False\n",
       "2               False"
      ]
     },
     "execution_count": 23,
     "metadata": {},
     "output_type": "execute_result"
    }
   ],
   "source": [
    "#we define winner variable with index match_id to make the join \n",
    "winner = winner.set_index('match_id')\n",
    "#we check the head to see that it is in the format that we want\n",
    "winner.head(3)"
   ]
  },
  {
   "cell_type": "code",
   "execution_count": 24,
   "metadata": {},
   "outputs": [
    {
     "data": {
      "text/plain": [
       "Int64Index([    0,     1,     2,     3,     4,     5,     6,     7,     8,\n",
       "                9,\n",
       "            ...\n",
       "            49990, 49991, 49992, 49993, 49994, 49995, 49996, 49997, 49998,\n",
       "            49999],\n",
       "           dtype='int64', name='match_id', length=50000)"
      ]
     },
     "execution_count": 24,
     "metadata": {},
     "output_type": "execute_result"
    }
   ],
   "source": [
    "#we check the index\n",
    "winner.index"
   ]
  },
  {
   "cell_type": "code",
   "execution_count": 25,
   "metadata": {},
   "outputs": [
    {
     "data": {
      "text/html": [
       "<div>\n",
       "<style scoped>\n",
       "    .dataframe tbody tr th:only-of-type {\n",
       "        vertical-align: middle;\n",
       "    }\n",
       "\n",
       "    .dataframe tbody tr th {\n",
       "        vertical-align: top;\n",
       "    }\n",
       "\n",
       "    .dataframe thead th {\n",
       "        text-align: right;\n",
       "    }\n",
       "</style>\n",
       "<table border=\"1\" class=\"dataframe\">\n",
       "  <thead>\n",
       "    <tr style=\"text-align: right;\">\n",
       "      <th></th>\n",
       "      <th>radiant_Abaddon</th>\n",
       "      <th>radiant_Alchemist</th>\n",
       "      <th>radiant_Ancient Apparition</th>\n",
       "      <th>radiant_Anti-Mage</th>\n",
       "      <th>radiant_Axe</th>\n",
       "      <th>radiant_Bane</th>\n",
       "      <th>radiant_Batrider</th>\n",
       "      <th>radiant_Beastmaster</th>\n",
       "      <th>radiant_Bloodseeker</th>\n",
       "      <th>radiant_Bounty Hunter</th>\n",
       "      <th>...</th>\n",
       "      <th>dire_Early game</th>\n",
       "      <th>dire_Late game</th>\n",
       "      <th>dire_Mid game</th>\n",
       "      <th>radiant_High Farm</th>\n",
       "      <th>radiant_Low Farm</th>\n",
       "      <th>radiant_Moderate Farm</th>\n",
       "      <th>dire_High Farm</th>\n",
       "      <th>dire_Low Farm</th>\n",
       "      <th>dire_Moderate Farm</th>\n",
       "      <th>radiant_win</th>\n",
       "    </tr>\n",
       "    <tr>\n",
       "      <th>match_id</th>\n",
       "      <th></th>\n",
       "      <th></th>\n",
       "      <th></th>\n",
       "      <th></th>\n",
       "      <th></th>\n",
       "      <th></th>\n",
       "      <th></th>\n",
       "      <th></th>\n",
       "      <th></th>\n",
       "      <th></th>\n",
       "      <th></th>\n",
       "      <th></th>\n",
       "      <th></th>\n",
       "      <th></th>\n",
       "      <th></th>\n",
       "      <th></th>\n",
       "      <th></th>\n",
       "      <th></th>\n",
       "      <th></th>\n",
       "      <th></th>\n",
       "      <th></th>\n",
       "    </tr>\n",
       "  </thead>\n",
       "  <tbody>\n",
       "    <tr>\n",
       "      <th>0</th>\n",
       "      <td>0</td>\n",
       "      <td>0</td>\n",
       "      <td>0</td>\n",
       "      <td>0</td>\n",
       "      <td>0</td>\n",
       "      <td>0</td>\n",
       "      <td>0</td>\n",
       "      <td>0</td>\n",
       "      <td>0</td>\n",
       "      <td>0</td>\n",
       "      <td>...</td>\n",
       "      <td>1</td>\n",
       "      <td>2</td>\n",
       "      <td>2</td>\n",
       "      <td>2</td>\n",
       "      <td>3</td>\n",
       "      <td>0</td>\n",
       "      <td>2</td>\n",
       "      <td>1</td>\n",
       "      <td>2</td>\n",
       "      <td>True</td>\n",
       "    </tr>\n",
       "    <tr>\n",
       "      <th>1</th>\n",
       "      <td>0</td>\n",
       "      <td>0</td>\n",
       "      <td>0</td>\n",
       "      <td>0</td>\n",
       "      <td>0</td>\n",
       "      <td>0</td>\n",
       "      <td>0</td>\n",
       "      <td>0</td>\n",
       "      <td>0</td>\n",
       "      <td>0</td>\n",
       "      <td>...</td>\n",
       "      <td>1</td>\n",
       "      <td>2</td>\n",
       "      <td>2</td>\n",
       "      <td>1</td>\n",
       "      <td>2</td>\n",
       "      <td>2</td>\n",
       "      <td>2</td>\n",
       "      <td>1</td>\n",
       "      <td>2</td>\n",
       "      <td>False</td>\n",
       "    </tr>\n",
       "    <tr>\n",
       "      <th>2</th>\n",
       "      <td>0</td>\n",
       "      <td>0</td>\n",
       "      <td>0</td>\n",
       "      <td>0</td>\n",
       "      <td>0</td>\n",
       "      <td>0</td>\n",
       "      <td>0</td>\n",
       "      <td>0</td>\n",
       "      <td>0</td>\n",
       "      <td>0</td>\n",
       "      <td>...</td>\n",
       "      <td>3</td>\n",
       "      <td>0</td>\n",
       "      <td>2</td>\n",
       "      <td>1</td>\n",
       "      <td>2</td>\n",
       "      <td>2</td>\n",
       "      <td>0</td>\n",
       "      <td>3</td>\n",
       "      <td>2</td>\n",
       "      <td>False</td>\n",
       "    </tr>\n",
       "  </tbody>\n",
       "</table>\n",
       "<p>3 rows × 245 columns</p>\n",
       "</div>"
      ],
      "text/plain": [
       "          radiant_Abaddon  radiant_Alchemist  radiant_Ancient Apparition  \\\n",
       "match_id                                                                   \n",
       "0                       0                  0                           0   \n",
       "1                       0                  0                           0   \n",
       "2                       0                  0                           0   \n",
       "\n",
       "          radiant_Anti-Mage  radiant_Axe  radiant_Bane  radiant_Batrider  \\\n",
       "match_id                                                                   \n",
       "0                         0            0             0                 0   \n",
       "1                         0            0             0                 0   \n",
       "2                         0            0             0                 0   \n",
       "\n",
       "          radiant_Beastmaster  radiant_Bloodseeker  radiant_Bounty Hunter  \\\n",
       "match_id                                                                    \n",
       "0                           0                    0                      0   \n",
       "1                           0                    0                      0   \n",
       "2                           0                    0                      0   \n",
       "\n",
       "          ...  dire_Early game  dire_Late game  dire_Mid game  \\\n",
       "match_id  ...                                                   \n",
       "0         ...                1               2              2   \n",
       "1         ...                1               2              2   \n",
       "2         ...                3               0              2   \n",
       "\n",
       "          radiant_High Farm  radiant_Low Farm  radiant_Moderate Farm  \\\n",
       "match_id                                                               \n",
       "0                         2                 3                      0   \n",
       "1                         1                 2                      2   \n",
       "2                         1                 2                      2   \n",
       "\n",
       "          dire_High Farm  dire_Low Farm  dire_Moderate Farm  radiant_win  \n",
       "match_id                                                                  \n",
       "0                      2              1                   2         True  \n",
       "1                      2              1                   2        False  \n",
       "2                      0              3                   2        False  \n",
       "\n",
       "[3 rows x 245 columns]"
      ]
     },
     "execution_count": 25,
     "metadata": {},
     "output_type": "execute_result"
    }
   ],
   "source": [
    "#we join the data of the heroes and categories with the result of the game to have all the information in the same dataframe.\n",
    "cd_ml = cd_ml.join(winner)\n",
    "#we check the head to see if it's in the format we want\n",
    "cd_ml.head(3)"
   ]
  },
  {
   "cell_type": "code",
   "execution_count": 26,
   "metadata": {},
   "outputs": [
    {
     "data": {
      "text/html": [
       "<div>\n",
       "<style scoped>\n",
       "    .dataframe tbody tr th:only-of-type {\n",
       "        vertical-align: middle;\n",
       "    }\n",
       "\n",
       "    .dataframe tbody tr th {\n",
       "        vertical-align: top;\n",
       "    }\n",
       "\n",
       "    .dataframe thead th {\n",
       "        text-align: right;\n",
       "    }\n",
       "</style>\n",
       "<table border=\"1\" class=\"dataframe\">\n",
       "  <thead>\n",
       "    <tr style=\"text-align: right;\">\n",
       "      <th></th>\n",
       "      <th>radiant_Abaddon</th>\n",
       "      <th>radiant_Alchemist</th>\n",
       "      <th>radiant_Ancient Apparition</th>\n",
       "      <th>radiant_Anti-Mage</th>\n",
       "      <th>radiant_Axe</th>\n",
       "      <th>radiant_Bane</th>\n",
       "      <th>radiant_Batrider</th>\n",
       "      <th>radiant_Beastmaster</th>\n",
       "      <th>radiant_Bloodseeker</th>\n",
       "      <th>radiant_Bounty Hunter</th>\n",
       "      <th>...</th>\n",
       "      <th>dire_Early game</th>\n",
       "      <th>dire_Late game</th>\n",
       "      <th>dire_Mid game</th>\n",
       "      <th>radiant_High Farm</th>\n",
       "      <th>radiant_Low Farm</th>\n",
       "      <th>radiant_Moderate Farm</th>\n",
       "      <th>dire_High Farm</th>\n",
       "      <th>dire_Low Farm</th>\n",
       "      <th>dire_Moderate Farm</th>\n",
       "      <th>radiant_win</th>\n",
       "    </tr>\n",
       "    <tr>\n",
       "      <th>match_id</th>\n",
       "      <th></th>\n",
       "      <th></th>\n",
       "      <th></th>\n",
       "      <th></th>\n",
       "      <th></th>\n",
       "      <th></th>\n",
       "      <th></th>\n",
       "      <th></th>\n",
       "      <th></th>\n",
       "      <th></th>\n",
       "      <th></th>\n",
       "      <th></th>\n",
       "      <th></th>\n",
       "      <th></th>\n",
       "      <th></th>\n",
       "      <th></th>\n",
       "      <th></th>\n",
       "      <th></th>\n",
       "      <th></th>\n",
       "      <th></th>\n",
       "      <th></th>\n",
       "    </tr>\n",
       "  </thead>\n",
       "  <tbody>\n",
       "    <tr>\n",
       "      <th>0</th>\n",
       "      <td>0</td>\n",
       "      <td>0</td>\n",
       "      <td>0</td>\n",
       "      <td>0</td>\n",
       "      <td>0</td>\n",
       "      <td>0</td>\n",
       "      <td>0</td>\n",
       "      <td>0</td>\n",
       "      <td>0</td>\n",
       "      <td>0</td>\n",
       "      <td>...</td>\n",
       "      <td>1</td>\n",
       "      <td>2</td>\n",
       "      <td>2</td>\n",
       "      <td>2</td>\n",
       "      <td>3</td>\n",
       "      <td>0</td>\n",
       "      <td>2</td>\n",
       "      <td>1</td>\n",
       "      <td>2</td>\n",
       "      <td>1</td>\n",
       "    </tr>\n",
       "    <tr>\n",
       "      <th>1</th>\n",
       "      <td>0</td>\n",
       "      <td>0</td>\n",
       "      <td>0</td>\n",
       "      <td>0</td>\n",
       "      <td>0</td>\n",
       "      <td>0</td>\n",
       "      <td>0</td>\n",
       "      <td>0</td>\n",
       "      <td>0</td>\n",
       "      <td>0</td>\n",
       "      <td>...</td>\n",
       "      <td>1</td>\n",
       "      <td>2</td>\n",
       "      <td>2</td>\n",
       "      <td>1</td>\n",
       "      <td>2</td>\n",
       "      <td>2</td>\n",
       "      <td>2</td>\n",
       "      <td>1</td>\n",
       "      <td>2</td>\n",
       "      <td>0</td>\n",
       "    </tr>\n",
       "  </tbody>\n",
       "</table>\n",
       "<p>2 rows × 245 columns</p>\n",
       "</div>"
      ],
      "text/plain": [
       "          radiant_Abaddon  radiant_Alchemist  radiant_Ancient Apparition  \\\n",
       "match_id                                                                   \n",
       "0                       0                  0                           0   \n",
       "1                       0                  0                           0   \n",
       "\n",
       "          radiant_Anti-Mage  radiant_Axe  radiant_Bane  radiant_Batrider  \\\n",
       "match_id                                                                   \n",
       "0                         0            0             0                 0   \n",
       "1                         0            0             0                 0   \n",
       "\n",
       "          radiant_Beastmaster  radiant_Bloodseeker  radiant_Bounty Hunter  \\\n",
       "match_id                                                                    \n",
       "0                           0                    0                      0   \n",
       "1                           0                    0                      0   \n",
       "\n",
       "          ...  dire_Early game  dire_Late game  dire_Mid game  \\\n",
       "match_id  ...                                                   \n",
       "0         ...                1               2              2   \n",
       "1         ...                1               2              2   \n",
       "\n",
       "          radiant_High Farm  radiant_Low Farm  radiant_Moderate Farm  \\\n",
       "match_id                                                               \n",
       "0                         2                 3                      0   \n",
       "1                         1                 2                      2   \n",
       "\n",
       "          dire_High Farm  dire_Low Farm  dire_Moderate Farm  radiant_win  \n",
       "match_id                                                                  \n",
       "0                      2              1                   2            1  \n",
       "1                      2              1                   2            0  \n",
       "\n",
       "[2 rows x 245 columns]"
      ]
     },
     "execution_count": 26,
     "metadata": {},
     "output_type": "execute_result"
    }
   ],
   "source": [
    "#we convert the \"radiant_win\" True/False values to integers 0 or 1\n",
    "cd_ml[\"radiant_win\"] = cd_ml[\"radiant_win\"].astype(int)\n",
    "#we check the head to see that the format is correct\n",
    "cd_ml.head(2)"
   ]
  },
  {
   "cell_type": "code",
   "execution_count": 27,
   "metadata": {
    "scrolled": true
   },
   "outputs": [
    {
     "data": {
      "text/plain": [
       "(50000, 245)"
      ]
     },
     "execution_count": 27,
     "metadata": {},
     "output_type": "execute_result"
    }
   ],
   "source": [
    "#we check the shape\n",
    "cd_ml.shape"
   ]
  },
  {
   "cell_type": "markdown",
   "metadata": {},
   "source": [
    "#### 4.4.1.2 Model 2 - Count of heroes categories + \"in-game\" gpm/xpm information \n",
    "\n",
    "In the upcoming lines we will extract the gpm and xpm information per game of mins 5, 8, 10, 12 and 15 and join it to the categories dataframe. We will exclude the information of heroes selected by each team in model 2.\n",
    "\n",
    "Therefore, model 2 dependent variables will be heroe's functions, farm dependecies and powerspikes together with gpm/xpm gaps between teams at minutes 5, 8, 10, 12 and 15."
   ]
  },
  {
   "cell_type": "code",
   "execution_count": 28,
   "metadata": {},
   "outputs": [
    {
     "data": {
      "text/html": [
       "<div>\n",
       "<style scoped>\n",
       "    .dataframe tbody tr th:only-of-type {\n",
       "        vertical-align: middle;\n",
       "    }\n",
       "\n",
       "    .dataframe tbody tr th {\n",
       "        vertical-align: top;\n",
       "    }\n",
       "\n",
       "    .dataframe thead th {\n",
       "        text-align: right;\n",
       "    }\n",
       "</style>\n",
       "<table border=\"1\" class=\"dataframe\">\n",
       "  <thead>\n",
       "    <tr style=\"text-align: right;\">\n",
       "      <th></th>\n",
       "      <th>diff_gpm5</th>\n",
       "      <th>diff_xpm5</th>\n",
       "      <th>diff_gpm8</th>\n",
       "      <th>diff_xpm8</th>\n",
       "      <th>diff_gpm10</th>\n",
       "      <th>diff_xpm10</th>\n",
       "      <th>diff_gpm12</th>\n",
       "      <th>diff_xpm12</th>\n",
       "      <th>diff_gpm15</th>\n",
       "      <th>diff_xpm15</th>\n",
       "    </tr>\n",
       "    <tr>\n",
       "      <th>match_id</th>\n",
       "      <th></th>\n",
       "      <th></th>\n",
       "      <th></th>\n",
       "      <th></th>\n",
       "      <th></th>\n",
       "      <th></th>\n",
       "      <th></th>\n",
       "      <th></th>\n",
       "      <th></th>\n",
       "      <th></th>\n",
       "    </tr>\n",
       "  </thead>\n",
       "  <tbody>\n",
       "    <tr>\n",
       "      <th>0</th>\n",
       "      <td>-41.48</td>\n",
       "      <td>-3.60</td>\n",
       "      <td>-6.575</td>\n",
       "      <td>28.250</td>\n",
       "      <td>-8.54</td>\n",
       "      <td>16.82</td>\n",
       "      <td>-18.733333</td>\n",
       "      <td>2.933333</td>\n",
       "      <td>9.426667</td>\n",
       "      <td>16.506667</td>\n",
       "    </tr>\n",
       "    <tr>\n",
       "      <th>1</th>\n",
       "      <td>-32.84</td>\n",
       "      <td>-41.00</td>\n",
       "      <td>-17.025</td>\n",
       "      <td>-18.825</td>\n",
       "      <td>-31.62</td>\n",
       "      <td>-38.28</td>\n",
       "      <td>-36.350000</td>\n",
       "      <td>-53.350000</td>\n",
       "      <td>-2.573333</td>\n",
       "      <td>-16.320000</td>\n",
       "    </tr>\n",
       "    <tr>\n",
       "      <th>2</th>\n",
       "      <td>20.88</td>\n",
       "      <td>9.16</td>\n",
       "      <td>-9.575</td>\n",
       "      <td>-22.475</td>\n",
       "      <td>-24.12</td>\n",
       "      <td>-22.28</td>\n",
       "      <td>-18.083333</td>\n",
       "      <td>-20.633333</td>\n",
       "      <td>13.800000</td>\n",
       "      <td>19.600000</td>\n",
       "    </tr>\n",
       "    <tr>\n",
       "      <th>3</th>\n",
       "      <td>-10.20</td>\n",
       "      <td>-3.40</td>\n",
       "      <td>-14.275</td>\n",
       "      <td>2.050</td>\n",
       "      <td>-4.02</td>\n",
       "      <td>5.32</td>\n",
       "      <td>14.750000</td>\n",
       "      <td>43.366667</td>\n",
       "      <td>32.853333</td>\n",
       "      <td>37.626667</td>\n",
       "    </tr>\n",
       "    <tr>\n",
       "      <th>4</th>\n",
       "      <td>70.20</td>\n",
       "      <td>52.48</td>\n",
       "      <td>75.800</td>\n",
       "      <td>57.750</td>\n",
       "      <td>82.86</td>\n",
       "      <td>81.92</td>\n",
       "      <td>104.066667</td>\n",
       "      <td>95.250000</td>\n",
       "      <td>92.893333</td>\n",
       "      <td>70.146667</td>\n",
       "    </tr>\n",
       "  </tbody>\n",
       "</table>\n",
       "</div>"
      ],
      "text/plain": [
       "          diff_gpm5  diff_xpm5  diff_gpm8  diff_xpm8  diff_gpm10  diff_xpm10  \\\n",
       "match_id                                                                       \n",
       "0            -41.48      -3.60     -6.575     28.250       -8.54       16.82   \n",
       "1            -32.84     -41.00    -17.025    -18.825      -31.62      -38.28   \n",
       "2             20.88       9.16     -9.575    -22.475      -24.12      -22.28   \n",
       "3            -10.20      -3.40    -14.275      2.050       -4.02        5.32   \n",
       "4             70.20      52.48     75.800     57.750       82.86       81.92   \n",
       "\n",
       "          diff_gpm12  diff_xpm12  diff_gpm15  diff_xpm15  \n",
       "match_id                                                  \n",
       "0         -18.733333    2.933333    9.426667   16.506667  \n",
       "1         -36.350000  -53.350000   -2.573333  -16.320000  \n",
       "2         -18.083333  -20.633333   13.800000   19.600000  \n",
       "3          14.750000   43.366667   32.853333   37.626667  \n",
       "4         104.066667   95.250000   92.893333   70.146667  "
      ]
     },
     "execution_count": 28,
     "metadata": {},
     "output_type": "execute_result"
    }
   ],
   "source": [
    "#subset the columns of minutes 5 to 15\n",
    "td_5 = td[td['min']==5]\n",
    "td_8 = td[td['min']==8]\n",
    "td_10 = td[td['min']==10]\n",
    "td_12 = td[td['min']==12]\n",
    "td_15 = td[td['min']==15]\n",
    "#drop rows with duplicate values\n",
    "td_5 = td_5.drop_duplicates()\n",
    "td_8 = td_8.drop_duplicates()\n",
    "td_10 = td_10.drop_duplicates()\n",
    "td_12 = td_12.drop_duplicates()\n",
    "td_15 = td_15.drop_duplicates()\n",
    "#get columns difference gpm and difference xpm\n",
    "td_5 = td_5[['diff_gpm','diff_xpm']]\n",
    "td_8 = td_8[['diff_gpm','diff_xpm']]\n",
    "td_10 = td_10[['diff_gpm','diff_xpm']]\n",
    "td_12 = td_12[['diff_gpm','diff_xpm']]\n",
    "td_15 = td_15[['diff_gpm','diff_xpm']]\n",
    "#rename the columns so that they show the minute they refer to\n",
    "td_5 = td_5.rename(columns={\"diff_gpm\": \"diff_gpm5\", \"diff_xpm\": \"diff_xpm5\"})\n",
    "td_8 = td_8.rename(columns={\"diff_gpm\": \"diff_gpm8\", \"diff_xpm\": \"diff_xpm8\"})\n",
    "td_10 = td_10.rename(columns={\"diff_gpm\": \"diff_gpm10\", \"diff_xpm\": \"diff_xpm10\"})\n",
    "td_12 = td_12.rename(columns={\"diff_gpm\": \"diff_gpm12\", \"diff_xpm\": \"diff_xpm12\"})\n",
    "td_15 = td_15.rename(columns={\"diff_gpm\": \"diff_gpm15\", \"diff_xpm\": \"diff_xpm15\"})\n",
    "#join the minutes in one dataframe\n",
    "td_5_15 = pd.concat([td_5,td_8,td_10,td_12,td_15], axis=1)\n",
    "#show the head to see the format is fine\n",
    "td_5_15.head()"
   ]
  },
  {
   "cell_type": "code",
   "execution_count": 29,
   "metadata": {},
   "outputs": [
    {
     "data": {
      "text/html": [
       "<div>\n",
       "<style scoped>\n",
       "    .dataframe tbody tr th:only-of-type {\n",
       "        vertical-align: middle;\n",
       "    }\n",
       "\n",
       "    .dataframe tbody tr th {\n",
       "        vertical-align: top;\n",
       "    }\n",
       "\n",
       "    .dataframe thead th {\n",
       "        text-align: right;\n",
       "    }\n",
       "</style>\n",
       "<table border=\"1\" class=\"dataframe\">\n",
       "  <thead>\n",
       "    <tr style=\"text-align: right;\">\n",
       "      <th></th>\n",
       "      <th>radiant_Core Killer / Pusher / Squishy</th>\n",
       "      <th>radiant_Core Killer / Pusher/ Tank</th>\n",
       "      <th>radiant_Core Killer / Tank</th>\n",
       "      <th>radiant_Core Pusher / Balanced</th>\n",
       "      <th>radiant_Support healer / Tank</th>\n",
       "      <th>radiant_Support killer / Squishy</th>\n",
       "      <th>radiant_High Farm</th>\n",
       "      <th>radiant_Low Farm</th>\n",
       "      <th>radiant_Moderate Farm</th>\n",
       "      <th>radiant_Early game</th>\n",
       "      <th>...</th>\n",
       "      <th>dire_Core Killer / Tank</th>\n",
       "      <th>dire_Core Pusher / Balanced</th>\n",
       "      <th>dire_Support healer / Tank</th>\n",
       "      <th>dire_Support killer / Squishy</th>\n",
       "      <th>dire_High Farm</th>\n",
       "      <th>dire_Low Farm</th>\n",
       "      <th>dire_Moderate Farm</th>\n",
       "      <th>dire_Early game</th>\n",
       "      <th>dire_Late game</th>\n",
       "      <th>dire_Mid game</th>\n",
       "    </tr>\n",
       "    <tr>\n",
       "      <th>match_id</th>\n",
       "      <th></th>\n",
       "      <th></th>\n",
       "      <th></th>\n",
       "      <th></th>\n",
       "      <th></th>\n",
       "      <th></th>\n",
       "      <th></th>\n",
       "      <th></th>\n",
       "      <th></th>\n",
       "      <th></th>\n",
       "      <th></th>\n",
       "      <th></th>\n",
       "      <th></th>\n",
       "      <th></th>\n",
       "      <th></th>\n",
       "      <th></th>\n",
       "      <th></th>\n",
       "      <th></th>\n",
       "      <th></th>\n",
       "      <th></th>\n",
       "      <th></th>\n",
       "    </tr>\n",
       "  </thead>\n",
       "  <tbody>\n",
       "    <tr>\n",
       "      <th>0</th>\n",
       "      <td>1</td>\n",
       "      <td>2</td>\n",
       "      <td>0</td>\n",
       "      <td>0</td>\n",
       "      <td>1</td>\n",
       "      <td>1</td>\n",
       "      <td>2</td>\n",
       "      <td>3</td>\n",
       "      <td>0</td>\n",
       "      <td>3</td>\n",
       "      <td>...</td>\n",
       "      <td>0</td>\n",
       "      <td>1</td>\n",
       "      <td>0</td>\n",
       "      <td>1</td>\n",
       "      <td>2</td>\n",
       "      <td>1</td>\n",
       "      <td>2</td>\n",
       "      <td>1</td>\n",
       "      <td>2</td>\n",
       "      <td>2</td>\n",
       "    </tr>\n",
       "    <tr>\n",
       "      <th>1</th>\n",
       "      <td>2</td>\n",
       "      <td>1</td>\n",
       "      <td>0</td>\n",
       "      <td>2</td>\n",
       "      <td>0</td>\n",
       "      <td>0</td>\n",
       "      <td>1</td>\n",
       "      <td>2</td>\n",
       "      <td>2</td>\n",
       "      <td>2</td>\n",
       "      <td>...</td>\n",
       "      <td>1</td>\n",
       "      <td>0</td>\n",
       "      <td>0</td>\n",
       "      <td>1</td>\n",
       "      <td>2</td>\n",
       "      <td>1</td>\n",
       "      <td>2</td>\n",
       "      <td>1</td>\n",
       "      <td>2</td>\n",
       "      <td>2</td>\n",
       "    </tr>\n",
       "    <tr>\n",
       "      <th>2</th>\n",
       "      <td>2</td>\n",
       "      <td>0</td>\n",
       "      <td>0</td>\n",
       "      <td>2</td>\n",
       "      <td>0</td>\n",
       "      <td>1</td>\n",
       "      <td>1</td>\n",
       "      <td>2</td>\n",
       "      <td>2</td>\n",
       "      <td>2</td>\n",
       "      <td>...</td>\n",
       "      <td>0</td>\n",
       "      <td>4</td>\n",
       "      <td>0</td>\n",
       "      <td>1</td>\n",
       "      <td>0</td>\n",
       "      <td>3</td>\n",
       "      <td>2</td>\n",
       "      <td>3</td>\n",
       "      <td>0</td>\n",
       "      <td>2</td>\n",
       "    </tr>\n",
       "  </tbody>\n",
       "</table>\n",
       "<p>3 rows × 24 columns</p>\n",
       "</div>"
      ],
      "text/plain": [
       "          radiant_Core Killer / Pusher / Squishy  \\\n",
       "match_id                                           \n",
       "0                                              1   \n",
       "1                                              2   \n",
       "2                                              2   \n",
       "\n",
       "          radiant_Core Killer / Pusher/ Tank  radiant_Core Killer / Tank  \\\n",
       "match_id                                                                   \n",
       "0                                          2                           0   \n",
       "1                                          1                           0   \n",
       "2                                          0                           0   \n",
       "\n",
       "          radiant_Core Pusher / Balanced  radiant_Support healer / Tank  \\\n",
       "match_id                                                                  \n",
       "0                                      0                              1   \n",
       "1                                      2                              0   \n",
       "2                                      2                              0   \n",
       "\n",
       "          radiant_Support killer / Squishy  radiant_High Farm  \\\n",
       "match_id                                                        \n",
       "0                                        1                  2   \n",
       "1                                        0                  1   \n",
       "2                                        1                  1   \n",
       "\n",
       "          radiant_Low Farm  radiant_Moderate Farm  radiant_Early game  ...  \\\n",
       "match_id                                                               ...   \n",
       "0                        3                      0                   3  ...   \n",
       "1                        2                      2                   2  ...   \n",
       "2                        2                      2                   2  ...   \n",
       "\n",
       "          dire_Core Killer / Tank  dire_Core Pusher / Balanced  \\\n",
       "match_id                                                         \n",
       "0                               0                            1   \n",
       "1                               1                            0   \n",
       "2                               0                            4   \n",
       "\n",
       "          dire_Support healer / Tank  dire_Support killer / Squishy  \\\n",
       "match_id                                                              \n",
       "0                                  0                              1   \n",
       "1                                  0                              1   \n",
       "2                                  0                              1   \n",
       "\n",
       "          dire_High Farm  dire_Low Farm  dire_Moderate Farm  dire_Early game  \\\n",
       "match_id                                                                       \n",
       "0                      2              1                   2                1   \n",
       "1                      2              1                   2                1   \n",
       "2                      0              3                   2                3   \n",
       "\n",
       "          dire_Late game  dire_Mid game  \n",
       "match_id                                 \n",
       "0                      2              2  \n",
       "1                      2              2  \n",
       "2                      0              2  \n",
       "\n",
       "[3 rows x 24 columns]"
      ]
     },
     "execution_count": 29,
     "metadata": {},
     "output_type": "execute_result"
    }
   ],
   "source": [
    "#join the minutes to the category types (this time, excluding the heroes selected)\n",
    "categories_2model = pd.concat([cd_rad_fu1,cd_rad_fa1,cd_rad_ps1,\n",
    "                               cd_dire_fu1,cd_dire_fa1,cd_dire_ps1], axis=1)\n",
    "#check the head to confirm format is fine\n",
    "categories_2model.head(3)"
   ]
  },
  {
   "cell_type": "code",
   "execution_count": 30,
   "metadata": {},
   "outputs": [
    {
     "data": {
      "text/html": [
       "<div>\n",
       "<style scoped>\n",
       "    .dataframe tbody tr th:only-of-type {\n",
       "        vertical-align: middle;\n",
       "    }\n",
       "\n",
       "    .dataframe tbody tr th {\n",
       "        vertical-align: top;\n",
       "    }\n",
       "\n",
       "    .dataframe thead th {\n",
       "        text-align: right;\n",
       "    }\n",
       "</style>\n",
       "<table border=\"1\" class=\"dataframe\">\n",
       "  <thead>\n",
       "    <tr style=\"text-align: right;\">\n",
       "      <th></th>\n",
       "      <th>diff_gpm5</th>\n",
       "      <th>diff_xpm5</th>\n",
       "      <th>diff_gpm8</th>\n",
       "      <th>diff_xpm8</th>\n",
       "      <th>diff_gpm10</th>\n",
       "      <th>diff_xpm10</th>\n",
       "      <th>diff_gpm12</th>\n",
       "      <th>diff_xpm12</th>\n",
       "      <th>diff_gpm15</th>\n",
       "      <th>diff_xpm15</th>\n",
       "      <th>...</th>\n",
       "      <th>dire_Core Pusher / Balanced</th>\n",
       "      <th>dire_Support healer / Tank</th>\n",
       "      <th>dire_Support killer / Squishy</th>\n",
       "      <th>dire_High Farm</th>\n",
       "      <th>dire_Low Farm</th>\n",
       "      <th>dire_Moderate Farm</th>\n",
       "      <th>dire_Early game</th>\n",
       "      <th>dire_Late game</th>\n",
       "      <th>dire_Mid game</th>\n",
       "      <th>radiant_win</th>\n",
       "    </tr>\n",
       "    <tr>\n",
       "      <th>match_id</th>\n",
       "      <th></th>\n",
       "      <th></th>\n",
       "      <th></th>\n",
       "      <th></th>\n",
       "      <th></th>\n",
       "      <th></th>\n",
       "      <th></th>\n",
       "      <th></th>\n",
       "      <th></th>\n",
       "      <th></th>\n",
       "      <th></th>\n",
       "      <th></th>\n",
       "      <th></th>\n",
       "      <th></th>\n",
       "      <th></th>\n",
       "      <th></th>\n",
       "      <th></th>\n",
       "      <th></th>\n",
       "      <th></th>\n",
       "      <th></th>\n",
       "      <th></th>\n",
       "    </tr>\n",
       "  </thead>\n",
       "  <tbody>\n",
       "    <tr>\n",
       "      <th>0</th>\n",
       "      <td>-41.48</td>\n",
       "      <td>-3.60</td>\n",
       "      <td>-6.575</td>\n",
       "      <td>28.250</td>\n",
       "      <td>-8.54</td>\n",
       "      <td>16.82</td>\n",
       "      <td>-18.733333</td>\n",
       "      <td>2.933333</td>\n",
       "      <td>9.426667</td>\n",
       "      <td>16.506667</td>\n",
       "      <td>...</td>\n",
       "      <td>1</td>\n",
       "      <td>0</td>\n",
       "      <td>1</td>\n",
       "      <td>2</td>\n",
       "      <td>1</td>\n",
       "      <td>2</td>\n",
       "      <td>1</td>\n",
       "      <td>2</td>\n",
       "      <td>2</td>\n",
       "      <td>1</td>\n",
       "    </tr>\n",
       "    <tr>\n",
       "      <th>1</th>\n",
       "      <td>-32.84</td>\n",
       "      <td>-41.00</td>\n",
       "      <td>-17.025</td>\n",
       "      <td>-18.825</td>\n",
       "      <td>-31.62</td>\n",
       "      <td>-38.28</td>\n",
       "      <td>-36.350000</td>\n",
       "      <td>-53.350000</td>\n",
       "      <td>-2.573333</td>\n",
       "      <td>-16.320000</td>\n",
       "      <td>...</td>\n",
       "      <td>0</td>\n",
       "      <td>0</td>\n",
       "      <td>1</td>\n",
       "      <td>2</td>\n",
       "      <td>1</td>\n",
       "      <td>2</td>\n",
       "      <td>1</td>\n",
       "      <td>2</td>\n",
       "      <td>2</td>\n",
       "      <td>0</td>\n",
       "    </tr>\n",
       "    <tr>\n",
       "      <th>2</th>\n",
       "      <td>20.88</td>\n",
       "      <td>9.16</td>\n",
       "      <td>-9.575</td>\n",
       "      <td>-22.475</td>\n",
       "      <td>-24.12</td>\n",
       "      <td>-22.28</td>\n",
       "      <td>-18.083333</td>\n",
       "      <td>-20.633333</td>\n",
       "      <td>13.800000</td>\n",
       "      <td>19.600000</td>\n",
       "      <td>...</td>\n",
       "      <td>4</td>\n",
       "      <td>0</td>\n",
       "      <td>1</td>\n",
       "      <td>0</td>\n",
       "      <td>3</td>\n",
       "      <td>2</td>\n",
       "      <td>3</td>\n",
       "      <td>0</td>\n",
       "      <td>2</td>\n",
       "      <td>0</td>\n",
       "    </tr>\n",
       "  </tbody>\n",
       "</table>\n",
       "<p>3 rows × 35 columns</p>\n",
       "</div>"
      ],
      "text/plain": [
       "          diff_gpm5  diff_xpm5  diff_gpm8  diff_xpm8  diff_gpm10  diff_xpm10  \\\n",
       "match_id                                                                       \n",
       "0            -41.48      -3.60     -6.575     28.250       -8.54       16.82   \n",
       "1            -32.84     -41.00    -17.025    -18.825      -31.62      -38.28   \n",
       "2             20.88       9.16     -9.575    -22.475      -24.12      -22.28   \n",
       "\n",
       "          diff_gpm12  diff_xpm12  diff_gpm15  diff_xpm15  ...  \\\n",
       "match_id                                                  ...   \n",
       "0         -18.733333    2.933333    9.426667   16.506667  ...   \n",
       "1         -36.350000  -53.350000   -2.573333  -16.320000  ...   \n",
       "2         -18.083333  -20.633333   13.800000   19.600000  ...   \n",
       "\n",
       "          dire_Core Pusher / Balanced  dire_Support healer / Tank  \\\n",
       "match_id                                                            \n",
       "0                                   1                           0   \n",
       "1                                   0                           0   \n",
       "2                                   4                           0   \n",
       "\n",
       "          dire_Support killer / Squishy  dire_High Farm  dire_Low Farm  \\\n",
       "match_id                                                                 \n",
       "0                                     1               2              1   \n",
       "1                                     1               2              1   \n",
       "2                                     1               0              3   \n",
       "\n",
       "          dire_Moderate Farm  dire_Early game  dire_Late game  dire_Mid game  \\\n",
       "match_id                                                                       \n",
       "0                          2                1               2              2   \n",
       "1                          2                1               2              2   \n",
       "2                          2                3               0              2   \n",
       "\n",
       "          radiant_win  \n",
       "match_id               \n",
       "0                   1  \n",
       "1                   0  \n",
       "2                   0  \n",
       "\n",
       "[3 rows x 35 columns]"
      ]
     },
     "execution_count": 30,
     "metadata": {},
     "output_type": "execute_result"
    }
   ],
   "source": [
    "#get the winner column\n",
    "winner2 = cd_ml[['radiant_win']]\n",
    "#add the winner column to the mins and categories\n",
    "model2 = pd.concat([td_5_15, categories_2model,winner2], axis = 1, join = 'inner')\n",
    "#check the head to confirm format\n",
    "model2.head(3)"
   ]
  },
  {
   "cell_type": "code",
   "execution_count": 31,
   "metadata": {},
   "outputs": [],
   "source": [
    "#drop all rows with empty values\n",
    "model2 = model2.dropna()"
   ]
  },
  {
   "cell_type": "code",
   "execution_count": 32,
   "metadata": {},
   "outputs": [
    {
     "data": {
      "text/plain": [
       "(49919, 35)"
      ]
     },
     "execution_count": 32,
     "metadata": {},
     "output_type": "execute_result"
    }
   ],
   "source": [
    "#check the shape of model2 dataframe\n",
    "model2.shape"
   ]
  },
  {
   "cell_type": "markdown",
   "metadata": {},
   "source": [
    "**Summary:**\n",
    "\n",
    "As a result of the preprocessing work performed, now we have 2 dataframes which are ready to be input to machine learning models, in particular, we have:\n",
    "\n",
    "* cd_ml: which contains information per game of heroes picked and a count of their categories per team; and\n",
    "* model2: which contains information per game of count of heroes categories and gpm/xpm gap on minutes 5, 8, 10, 12 and 15.\n",
    "\n",
    "We will proceed to generate the Baseline Case accuracy calculation to compare our models performance against it later on.\n"
   ]
  },
  {
   "cell_type": "markdown",
   "metadata": {},
   "source": [
    "## 4.5 Baseline Case\n",
    "\n",
    "We will calculate the base case scenario for comparison with the future models. The model will calculate the total nº of won games / total nº of games to determine the winning chances:"
   ]
  },
  {
   "cell_type": "code",
   "execution_count": 33,
   "metadata": {},
   "outputs": [],
   "source": [
    "#we subset the winners\n",
    "winner = cd_ml[cd_ml['radiant_win'] == 1]"
   ]
  },
  {
   "cell_type": "code",
   "execution_count": 34,
   "metadata": {
    "scrolled": true
   },
   "outputs": [
    {
     "name": "stdout",
     "output_type": "stream",
     "text": [
      "Baseline Case: 0.51886\n"
     ]
    }
   ],
   "source": [
    "#we divide the winner's lenght / total lenght of the dataframe\n",
    "print(\"Baseline Case:\",len(winner) / len(cd_ml))"
   ]
  },
  {
   "cell_type": "markdown",
   "metadata": {},
   "source": [
    "The baseline assumption will be that **the probability of estimating correctly the winning team**, based on the distribution of won/lost games in the dataset, **is around 51.88%**.\n",
    "\n",
    "We will test our model against this value to assess if our model improves this percentage."
   ]
  },
  {
   "cell_type": "markdown",
   "metadata": {},
   "source": [
    "## 4.6 Model 1 - Heroes selected + count of hero categories\n",
    "### 4.6.1 Initial Model"
   ]
  },
  {
   "cell_type": "markdown",
   "metadata": {},
   "source": [
    "The first thing that we will do is split our variables, on X dataframe the dependant features and on y the independent features."
   ]
  },
  {
   "cell_type": "code",
   "execution_count": 35,
   "metadata": {},
   "outputs": [],
   "source": [
    "#we reset the index to split the dataframe and leave it without index\n",
    "cd_ml.reset_index(inplace=True)"
   ]
  },
  {
   "cell_type": "code",
   "execution_count": 36,
   "metadata": {},
   "outputs": [],
   "source": [
    "#we split the dependant and independent features\n",
    "X = cd_ml.iloc[:,1:-1]\n",
    "y = cd_ml.iloc[:,-1]"
   ]
  },
  {
   "cell_type": "code",
   "execution_count": 37,
   "metadata": {
    "scrolled": true
   },
   "outputs": [
    {
     "data": {
      "text/html": [
       "<div>\n",
       "<style scoped>\n",
       "    .dataframe tbody tr th:only-of-type {\n",
       "        vertical-align: middle;\n",
       "    }\n",
       "\n",
       "    .dataframe tbody tr th {\n",
       "        vertical-align: top;\n",
       "    }\n",
       "\n",
       "    .dataframe thead th {\n",
       "        text-align: right;\n",
       "    }\n",
       "</style>\n",
       "<table border=\"1\" class=\"dataframe\">\n",
       "  <thead>\n",
       "    <tr style=\"text-align: right;\">\n",
       "      <th></th>\n",
       "      <th>radiant_Abaddon</th>\n",
       "      <th>radiant_Alchemist</th>\n",
       "      <th>radiant_Ancient Apparition</th>\n",
       "      <th>radiant_Anti-Mage</th>\n",
       "      <th>radiant_Axe</th>\n",
       "      <th>radiant_Bane</th>\n",
       "      <th>radiant_Batrider</th>\n",
       "      <th>radiant_Beastmaster</th>\n",
       "      <th>radiant_Bloodseeker</th>\n",
       "      <th>radiant_Bounty Hunter</th>\n",
       "      <th>...</th>\n",
       "      <th>radiant_Mid game</th>\n",
       "      <th>dire_Early game</th>\n",
       "      <th>dire_Late game</th>\n",
       "      <th>dire_Mid game</th>\n",
       "      <th>radiant_High Farm</th>\n",
       "      <th>radiant_Low Farm</th>\n",
       "      <th>radiant_Moderate Farm</th>\n",
       "      <th>dire_High Farm</th>\n",
       "      <th>dire_Low Farm</th>\n",
       "      <th>dire_Moderate Farm</th>\n",
       "    </tr>\n",
       "  </thead>\n",
       "  <tbody>\n",
       "    <tr>\n",
       "      <th>0</th>\n",
       "      <td>0</td>\n",
       "      <td>0</td>\n",
       "      <td>0</td>\n",
       "      <td>0</td>\n",
       "      <td>0</td>\n",
       "      <td>0</td>\n",
       "      <td>0</td>\n",
       "      <td>0</td>\n",
       "      <td>0</td>\n",
       "      <td>0</td>\n",
       "      <td>...</td>\n",
       "      <td>0</td>\n",
       "      <td>1</td>\n",
       "      <td>2</td>\n",
       "      <td>2</td>\n",
       "      <td>2</td>\n",
       "      <td>3</td>\n",
       "      <td>0</td>\n",
       "      <td>2</td>\n",
       "      <td>1</td>\n",
       "      <td>2</td>\n",
       "    </tr>\n",
       "    <tr>\n",
       "      <th>1</th>\n",
       "      <td>0</td>\n",
       "      <td>0</td>\n",
       "      <td>0</td>\n",
       "      <td>0</td>\n",
       "      <td>0</td>\n",
       "      <td>0</td>\n",
       "      <td>0</td>\n",
       "      <td>0</td>\n",
       "      <td>0</td>\n",
       "      <td>0</td>\n",
       "      <td>...</td>\n",
       "      <td>2</td>\n",
       "      <td>1</td>\n",
       "      <td>2</td>\n",
       "      <td>2</td>\n",
       "      <td>1</td>\n",
       "      <td>2</td>\n",
       "      <td>2</td>\n",
       "      <td>2</td>\n",
       "      <td>1</td>\n",
       "      <td>2</td>\n",
       "    </tr>\n",
       "  </tbody>\n",
       "</table>\n",
       "<p>2 rows × 244 columns</p>\n",
       "</div>"
      ],
      "text/plain": [
       "   radiant_Abaddon  radiant_Alchemist  radiant_Ancient Apparition  \\\n",
       "0                0                  0                           0   \n",
       "1                0                  0                           0   \n",
       "\n",
       "   radiant_Anti-Mage  radiant_Axe  radiant_Bane  radiant_Batrider  \\\n",
       "0                  0            0             0                 0   \n",
       "1                  0            0             0                 0   \n",
       "\n",
       "   radiant_Beastmaster  radiant_Bloodseeker  radiant_Bounty Hunter  ...  \\\n",
       "0                    0                    0                      0  ...   \n",
       "1                    0                    0                      0  ...   \n",
       "\n",
       "   radiant_Mid game  dire_Early game  dire_Late game  dire_Mid game  \\\n",
       "0                 0                1               2              2   \n",
       "1                 2                1               2              2   \n",
       "\n",
       "   radiant_High Farm  radiant_Low Farm  radiant_Moderate Farm  dire_High Farm  \\\n",
       "0                  2                 3                      0               2   \n",
       "1                  1                 2                      2               2   \n",
       "\n",
       "   dire_Low Farm  dire_Moderate Farm  \n",
       "0              1                   2  \n",
       "1              1                   2  \n",
       "\n",
       "[2 rows x 244 columns]"
      ]
     },
     "execution_count": 37,
     "metadata": {},
     "output_type": "execute_result"
    }
   ],
   "source": [
    "X.head(2)"
   ]
  },
  {
   "cell_type": "code",
   "execution_count": 38,
   "metadata": {
    "scrolled": false
   },
   "outputs": [
    {
     "data": {
      "text/plain": [
       "0    1\n",
       "1    0\n",
       "Name: radiant_win, dtype: int32"
      ]
     },
     "execution_count": 38,
     "metadata": {},
     "output_type": "execute_result"
    }
   ],
   "source": [
    "y.head(2)"
   ]
  },
  {
   "cell_type": "markdown",
   "metadata": {},
   "source": [
    "We split the train and test set with a split of 70-30, with random state of 47"
   ]
  },
  {
   "cell_type": "code",
   "execution_count": 39,
   "metadata": {},
   "outputs": [],
   "source": [
    "X_train, X_test, y_train, y_test = train_test_split(X, y, test_size=0.3, random_state=47)"
   ]
  },
  {
   "cell_type": "code",
   "execution_count": 40,
   "metadata": {},
   "outputs": [],
   "source": [
    "#we define variable classifier to contain the random forest classifier\n",
    "classifier = RandomForestClassifier(random_state=47)\n",
    "#we fit the train train set to the model\n",
    "classifier.fit(X_train, y_train)\n",
    "#we predict the X test\n",
    "y_pred = classifier.predict(X_test)"
   ]
  },
  {
   "cell_type": "markdown",
   "metadata": {},
   "source": [
    "We print the accuracy and the confussion matrix to check the performance of the model"
   ]
  },
  {
   "cell_type": "code",
   "execution_count": 41,
   "metadata": {
    "scrolled": true
   },
   "outputs": [
    {
     "name": "stdout",
     "output_type": "stream",
     "text": [
      "Accuracy: 0.5680666666666667\n"
     ]
    }
   ],
   "source": [
    "print(\"Accuracy:\",metrics.accuracy_score(y_test, y_pred))"
   ]
  },
  {
   "cell_type": "markdown",
   "metadata": {},
   "source": [
    "The model has an accuracy of 56.80% in the test set. This is already an improvement from the baseline case scenario (51.88%).\n",
    "\n",
    "In particular, the improvement has been of 4.92%. This improvement is relatively small, but it is necessary to consider that we are only using information available before the game starts, which is very limited.\n",
    "\n",
    "Also, the improvement of almost 5% is based on one train/test split without cross validation. It is possible, therefore, that the particular split of data performed is not representative of the population and different train/test splits could give different scores.\n",
    "\n",
    "In addittion, we have not searched for optimal random forest hyperparameters, which could derive in a better accuracy score.\n",
    "\n",
    "In line with the paragraphs above, we will aim at improving model's 1 performance using cross validation to check the score of different subsets of training and test splits and applying best parameters to the random forest classifier."
   ]
  },
  {
   "cell_type": "markdown",
   "metadata": {},
   "source": [
    "### 4.6.2 Improved model\n",
    "#### 4.6.2.1 Hyperparameter search using GridSearchCV"
   ]
  },
  {
   "cell_type": "code",
   "execution_count": 42,
   "metadata": {},
   "outputs": [],
   "source": [
    "#Create a RandomForestClassifier() with a random state of 47\n",
    "RF_pipe = make_pipeline(\n",
    "    RandomForestClassifier(random_state=47)\n",
    ")"
   ]
  },
  {
   "cell_type": "code",
   "execution_count": 43,
   "metadata": {},
   "outputs": [
    {
     "data": {
      "text/plain": [
       "{'randomforestclassifier__n_estimators': [10,\n",
       "  11,\n",
       "  12,\n",
       "  14,\n",
       "  16,\n",
       "  18,\n",
       "  20,\n",
       "  22,\n",
       "  25,\n",
       "  28,\n",
       "  32,\n",
       "  36,\n",
       "  41,\n",
       "  46,\n",
       "  52,\n",
       "  58,\n",
       "  66,\n",
       "  74,\n",
       "  83,\n",
       "  94,\n",
       "  106,\n",
       "  119,\n",
       "  134,\n",
       "  151,\n",
       "  170,\n",
       "  191,\n",
       "  215,\n",
       "  242,\n",
       "  272,\n",
       "  307,\n",
       "  345,\n",
       "  388,\n",
       "  437,\n",
       "  492,\n",
       "  554,\n",
       "  623,\n",
       "  701,\n",
       "  789,\n",
       "  888,\n",
       "  1000]}"
      ]
     },
     "execution_count": 43,
     "metadata": {},
     "output_type": "execute_result"
    }
   ],
   "source": [
    "#we define the nº of estimators \n",
    "n_est = [int(n) for n in np.logspace(start=1, stop=3, num=40)]\n",
    "#we define the grid parameters to search and input the nº of estimators defined\n",
    "grid_params = {\n",
    "        'randomforestclassifier__n_estimators': n_est\n",
    "}\n",
    "grid_params"
   ]
  },
  {
   "cell_type": "code",
   "execution_count": 44,
   "metadata": {},
   "outputs": [],
   "source": [
    "#Call `GridSearchCV` with the random forest pipeline, passing in the above `grid_params`\n",
    "#dict for parameters to evaluate, 5-fold cross-validation, and all available CPU cores\n",
    "rf_grid_cv = GridSearchCV(RF_pipe, param_grid=grid_params, cv=5, n_jobs=-1)"
   ]
  },
  {
   "cell_type": "code",
   "execution_count": 45,
   "metadata": {},
   "outputs": [
    {
     "data": {
      "text/plain": [
       "GridSearchCV(cv=5,\n",
       "             estimator=Pipeline(steps=[('randomforestclassifier',\n",
       "                                        RandomForestClassifier(random_state=47))]),\n",
       "             n_jobs=-1,\n",
       "             param_grid={'randomforestclassifier__n_estimators': [10, 11, 12,\n",
       "                                                                  14, 16, 18,\n",
       "                                                                  20, 22, 25,\n",
       "                                                                  28, 32, 36,\n",
       "                                                                  41, 46, 52,\n",
       "                                                                  58, 66, 74,\n",
       "                                                                  83, 94, 106,\n",
       "                                                                  119, 134, 151,\n",
       "                                                                  170, 191, 215,\n",
       "                                                                  242, 272, 307, ...]})"
      ]
     },
     "execution_count": 45,
     "metadata": {},
     "output_type": "execute_result"
    }
   ],
   "source": [
    "#Now call the `GridSearchCV`'s `fit()` method with `X_train` and `y_train` as arguments\n",
    "#to actually start the grid search.\n",
    "rf_grid_cv.fit(X_train, y_train)"
   ]
  },
  {
   "cell_type": "code",
   "execution_count": 46,
   "metadata": {},
   "outputs": [
    {
     "data": {
      "text/plain": [
       "{'randomforestclassifier__n_estimators': 888}"
      ]
     },
     "execution_count": 46,
     "metadata": {},
     "output_type": "execute_result"
    }
   ],
   "source": [
    "#Print the best params (`best_params_` attribute) from the grid search\n",
    "rf_grid_cv.best_params_"
   ]
  },
  {
   "cell_type": "code",
   "execution_count": 47,
   "metadata": {},
   "outputs": [
    {
     "data": {
      "text/plain": [
       "array([0.58714286, 0.58314286, 0.58771429, 0.58171429, 0.58728571])"
      ]
     },
     "execution_count": 47,
     "metadata": {},
     "output_type": "execute_result"
    }
   ],
   "source": [
    "rf_best_cv_results = cross_validate(rf_grid_cv.best_estimator_, X_train, y_train, cv=5)\n",
    "rf_best_scores = rf_best_cv_results['test_score']\n",
    "rf_best_scores"
   ]
  },
  {
   "cell_type": "code",
   "execution_count": 48,
   "metadata": {
    "scrolled": true
   },
   "outputs": [
    {
     "data": {
      "text/plain": [
       "(0.5854, 0.0024750180374523098)"
      ]
     },
     "execution_count": 48,
     "metadata": {},
     "output_type": "execute_result"
    }
   ],
   "source": [
    "np.mean(rf_best_scores), np.std(rf_best_scores)"
   ]
  },
  {
   "cell_type": "markdown",
   "metadata": {},
   "source": [
    "The model has an accuracy of around 59%, which is already much better than the 51% baseline case, but it's still far from giving a solid basis to define what team will win."
   ]
  },
  {
   "cell_type": "code",
   "execution_count": 49,
   "metadata": {
    "scrolled": false
   },
   "outputs": [
    {
     "data": {
      "image/png": "[encoded data removed]",
      "text/plain": [
       "<Figure size 720x360 with 1 Axes>"
      ]
     },
     "metadata": {
      "needs_background": "light"
     },
     "output_type": "display_data"
    }
   ],
   "source": [
    "#we plot the first 10 features sorted by relevance\n",
    "plt.subplots(figsize=(10, 5))\n",
    "imps = rf_grid_cv.best_estimator_.named_steps.randomforestclassifier.feature_importances_\n",
    "rf_feat_imps = pd.Series(imps, index=X_train.columns).sort_values(ascending=False)\n",
    "rf_feat_imps.plot(kind='bar')\n",
    "plt.xlim(0,10)\n",
    "plt.xlabel('features')\n",
    "plt.ylabel('importance')\n",
    "plt.title('Best random forest classificator feature importances');"
   ]
  },
  {
   "cell_type": "markdown",
   "metadata": {},
   "source": [
    "#### 4.6.2.2 Data Quantity Assessement\n",
    "\n",
    "Finally, we need to understand if it will be useful to undertake further data collection. Would more data be useful? We're often led to believe more data is always good, but gathering data invariably has a cost associated with it. Assess this trade off by seeing how performance varies with differing data set sizes. The `learning_curve` function does this conveniently."
   ]
  },
  {
   "cell_type": "code",
   "execution_count": 50,
   "metadata": {},
   "outputs": [],
   "source": [
    "fractions = [.2, .25, .3, .35, .4, .45, .5, .6, .75, .8, 1.0]\n",
    "train_size, train_scores, test_scores = learning_curve(RF_pipe, X_train, y_train, train_sizes=fractions)\n",
    "train_scores_mean = np.mean(train_scores, axis=1)\n",
    "train_scores_std = np.std(train_scores, axis=1)\n",
    "test_scores_mean = np.mean(test_scores, axis=1)\n",
    "test_scores_std = np.std(test_scores, axis=1)"
   ]
  },
  {
   "cell_type": "code",
   "execution_count": 51,
   "metadata": {},
   "outputs": [
    {
     "data": {
      "image/png": "[encoded data removed]",
      "text/plain": [
       "<Figure size 720x360 with 1 Axes>"
      ]
     },
     "metadata": {
      "needs_background": "light"
     },
     "output_type": "display_data"
    }
   ],
   "source": [
    "plt.subplots(figsize=(10, 5))\n",
    "plt.errorbar(train_size, test_scores_mean, yerr=test_scores_std)\n",
    "plt.xlabel('Training set size')\n",
    "plt.ylabel('CV scores')\n",
    "plt.title('Cross-validation score as training set size increases');"
   ]
  },
  {
   "cell_type": "markdown",
   "metadata": {},
   "source": [
    "#### 4.6.2.3 Summary\n",
    "\n",
    "The Baseline Case had an accuracy of around 51% of accuracy, our model 1, considering only variables available at the beginning of the game, this is, heroes selected by each team and a count of their categories, increased this accuracy to around 58%.\n",
    "\n",
    "In relation with the feature importance, the hero functions and categories were all similar in relevance, being hero functions \"Core Pusher / Balanced\" the variable that the model 1 considered more relevant to predict the winner/loser team.\n",
    "\n",
    "In relation with the data quantity assessment, we observe that the cross validation score increases with training set sizes of up to 22k matches and then stabilizes, therefore, we can conclude that we have enough data for the model and that more data of the same type will not increase the model's accuracy significantly.\n",
    "\n"
   ]
  },
  {
   "cell_type": "markdown",
   "metadata": {},
   "source": [
    "## 4.7 Model 2 - Count of categories + gpm/xpm \"in-game\" information\n",
    "### 4.7.1 Initial Model\n",
    "\n",
    "For this second model as commented before, we will include information about the gpm and xpm gap between teams at minute marks 5, 8, 10, 12 and 15. Also, we will include only information about the hero categories of each team; in particular, a count of how many hero functions, hero farm dependencies and hero powerspikes there are in each team. Information about the specifics heroes selected by each team will be excluded."
   ]
  },
  {
   "cell_type": "code",
   "execution_count": 52,
   "metadata": {},
   "outputs": [
    {
     "data": {
      "text/html": [
       "<div>\n",
       "<style scoped>\n",
       "    .dataframe tbody tr th:only-of-type {\n",
       "        vertical-align: middle;\n",
       "    }\n",
       "\n",
       "    .dataframe tbody tr th {\n",
       "        vertical-align: top;\n",
       "    }\n",
       "\n",
       "    .dataframe thead th {\n",
       "        text-align: right;\n",
       "    }\n",
       "</style>\n",
       "<table border=\"1\" class=\"dataframe\">\n",
       "  <thead>\n",
       "    <tr style=\"text-align: right;\">\n",
       "      <th></th>\n",
       "      <th>match_id</th>\n",
       "      <th>diff_gpm5</th>\n",
       "      <th>diff_xpm5</th>\n",
       "      <th>diff_gpm8</th>\n",
       "      <th>diff_xpm8</th>\n",
       "      <th>diff_gpm10</th>\n",
       "      <th>diff_xpm10</th>\n",
       "      <th>diff_gpm12</th>\n",
       "      <th>diff_xpm12</th>\n",
       "      <th>diff_gpm15</th>\n",
       "      <th>...</th>\n",
       "      <th>dire_Core Pusher / Balanced</th>\n",
       "      <th>dire_Support healer / Tank</th>\n",
       "      <th>dire_Support killer / Squishy</th>\n",
       "      <th>dire_High Farm</th>\n",
       "      <th>dire_Low Farm</th>\n",
       "      <th>dire_Moderate Farm</th>\n",
       "      <th>dire_Early game</th>\n",
       "      <th>dire_Late game</th>\n",
       "      <th>dire_Mid game</th>\n",
       "      <th>radiant_win</th>\n",
       "    </tr>\n",
       "  </thead>\n",
       "  <tbody>\n",
       "    <tr>\n",
       "      <th>0</th>\n",
       "      <td>0</td>\n",
       "      <td>-41.48</td>\n",
       "      <td>-3.60</td>\n",
       "      <td>-6.575</td>\n",
       "      <td>28.250</td>\n",
       "      <td>-8.54</td>\n",
       "      <td>16.82</td>\n",
       "      <td>-18.733333</td>\n",
       "      <td>2.933333</td>\n",
       "      <td>9.426667</td>\n",
       "      <td>...</td>\n",
       "      <td>1</td>\n",
       "      <td>0</td>\n",
       "      <td>1</td>\n",
       "      <td>2</td>\n",
       "      <td>1</td>\n",
       "      <td>2</td>\n",
       "      <td>1</td>\n",
       "      <td>2</td>\n",
       "      <td>2</td>\n",
       "      <td>1</td>\n",
       "    </tr>\n",
       "    <tr>\n",
       "      <th>1</th>\n",
       "      <td>1</td>\n",
       "      <td>-32.84</td>\n",
       "      <td>-41.00</td>\n",
       "      <td>-17.025</td>\n",
       "      <td>-18.825</td>\n",
       "      <td>-31.62</td>\n",
       "      <td>-38.28</td>\n",
       "      <td>-36.350000</td>\n",
       "      <td>-53.350000</td>\n",
       "      <td>-2.573333</td>\n",
       "      <td>...</td>\n",
       "      <td>0</td>\n",
       "      <td>0</td>\n",
       "      <td>1</td>\n",
       "      <td>2</td>\n",
       "      <td>1</td>\n",
       "      <td>2</td>\n",
       "      <td>1</td>\n",
       "      <td>2</td>\n",
       "      <td>2</td>\n",
       "      <td>0</td>\n",
       "    </tr>\n",
       "    <tr>\n",
       "      <th>2</th>\n",
       "      <td>2</td>\n",
       "      <td>20.88</td>\n",
       "      <td>9.16</td>\n",
       "      <td>-9.575</td>\n",
       "      <td>-22.475</td>\n",
       "      <td>-24.12</td>\n",
       "      <td>-22.28</td>\n",
       "      <td>-18.083333</td>\n",
       "      <td>-20.633333</td>\n",
       "      <td>13.800000</td>\n",
       "      <td>...</td>\n",
       "      <td>4</td>\n",
       "      <td>0</td>\n",
       "      <td>1</td>\n",
       "      <td>0</td>\n",
       "      <td>3</td>\n",
       "      <td>2</td>\n",
       "      <td>3</td>\n",
       "      <td>0</td>\n",
       "      <td>2</td>\n",
       "      <td>0</td>\n",
       "    </tr>\n",
       "  </tbody>\n",
       "</table>\n",
       "<p>3 rows × 36 columns</p>\n",
       "</div>"
      ],
      "text/plain": [
       "   match_id  diff_gpm5  diff_xpm5  diff_gpm8  diff_xpm8  diff_gpm10  \\\n",
       "0         0     -41.48      -3.60     -6.575     28.250       -8.54   \n",
       "1         1     -32.84     -41.00    -17.025    -18.825      -31.62   \n",
       "2         2      20.88       9.16     -9.575    -22.475      -24.12   \n",
       "\n",
       "   diff_xpm10  diff_gpm12  diff_xpm12  diff_gpm15  ...  \\\n",
       "0       16.82  -18.733333    2.933333    9.426667  ...   \n",
       "1      -38.28  -36.350000  -53.350000   -2.573333  ...   \n",
       "2      -22.28  -18.083333  -20.633333   13.800000  ...   \n",
       "\n",
       "   dire_Core Pusher / Balanced  dire_Support healer / Tank  \\\n",
       "0                            1                           0   \n",
       "1                            0                           0   \n",
       "2                            4                           0   \n",
       "\n",
       "   dire_Support killer / Squishy  dire_High Farm  dire_Low Farm  \\\n",
       "0                              1               2              1   \n",
       "1                              1               2              1   \n",
       "2                              1               0              3   \n",
       "\n",
       "   dire_Moderate Farm  dire_Early game  dire_Late game  dire_Mid game  \\\n",
       "0                   2                1               2              2   \n",
       "1                   2                1               2              2   \n",
       "2                   2                3               0              2   \n",
       "\n",
       "   radiant_win  \n",
       "0            1  \n",
       "1            0  \n",
       "2            0  \n",
       "\n",
       "[3 rows x 36 columns]"
      ]
     },
     "execution_count": 52,
     "metadata": {},
     "output_type": "execute_result"
    }
   ],
   "source": [
    "#reset the index \n",
    "model2 = model2.reset_index()\n",
    "#check head for format confirmation\n",
    "model2.head(3)"
   ]
  },
  {
   "cell_type": "code",
   "execution_count": 53,
   "metadata": {},
   "outputs": [],
   "source": [
    "#split of variables for model2, X for dependendant features, y for independent feature\n",
    "X = model2.iloc[:,1:-1]\n",
    "y = model2.iloc[:,-1]"
   ]
  },
  {
   "cell_type": "code",
   "execution_count": 54,
   "metadata": {},
   "outputs": [
    {
     "data": {
      "text/html": [
       "<div>\n",
       "<style scoped>\n",
       "    .dataframe tbody tr th:only-of-type {\n",
       "        vertical-align: middle;\n",
       "    }\n",
       "\n",
       "    .dataframe tbody tr th {\n",
       "        vertical-align: top;\n",
       "    }\n",
       "\n",
       "    .dataframe thead th {\n",
       "        text-align: right;\n",
       "    }\n",
       "</style>\n",
       "<table border=\"1\" class=\"dataframe\">\n",
       "  <thead>\n",
       "    <tr style=\"text-align: right;\">\n",
       "      <th></th>\n",
       "      <th>diff_gpm5</th>\n",
       "      <th>diff_xpm5</th>\n",
       "      <th>diff_gpm8</th>\n",
       "      <th>diff_xpm8</th>\n",
       "      <th>diff_gpm10</th>\n",
       "      <th>diff_xpm10</th>\n",
       "      <th>diff_gpm12</th>\n",
       "      <th>diff_xpm12</th>\n",
       "      <th>diff_gpm15</th>\n",
       "      <th>diff_xpm15</th>\n",
       "      <th>...</th>\n",
       "      <th>dire_Core Killer / Tank</th>\n",
       "      <th>dire_Core Pusher / Balanced</th>\n",
       "      <th>dire_Support healer / Tank</th>\n",
       "      <th>dire_Support killer / Squishy</th>\n",
       "      <th>dire_High Farm</th>\n",
       "      <th>dire_Low Farm</th>\n",
       "      <th>dire_Moderate Farm</th>\n",
       "      <th>dire_Early game</th>\n",
       "      <th>dire_Late game</th>\n",
       "      <th>dire_Mid game</th>\n",
       "    </tr>\n",
       "  </thead>\n",
       "  <tbody>\n",
       "    <tr>\n",
       "      <th>0</th>\n",
       "      <td>-41.48</td>\n",
       "      <td>-3.60</td>\n",
       "      <td>-6.575</td>\n",
       "      <td>28.250</td>\n",
       "      <td>-8.54</td>\n",
       "      <td>16.82</td>\n",
       "      <td>-18.733333</td>\n",
       "      <td>2.933333</td>\n",
       "      <td>9.426667</td>\n",
       "      <td>16.506667</td>\n",
       "      <td>...</td>\n",
       "      <td>0</td>\n",
       "      <td>1</td>\n",
       "      <td>0</td>\n",
       "      <td>1</td>\n",
       "      <td>2</td>\n",
       "      <td>1</td>\n",
       "      <td>2</td>\n",
       "      <td>1</td>\n",
       "      <td>2</td>\n",
       "      <td>2</td>\n",
       "    </tr>\n",
       "    <tr>\n",
       "      <th>1</th>\n",
       "      <td>-32.84</td>\n",
       "      <td>-41.00</td>\n",
       "      <td>-17.025</td>\n",
       "      <td>-18.825</td>\n",
       "      <td>-31.62</td>\n",
       "      <td>-38.28</td>\n",
       "      <td>-36.350000</td>\n",
       "      <td>-53.350000</td>\n",
       "      <td>-2.573333</td>\n",
       "      <td>-16.320000</td>\n",
       "      <td>...</td>\n",
       "      <td>1</td>\n",
       "      <td>0</td>\n",
       "      <td>0</td>\n",
       "      <td>1</td>\n",
       "      <td>2</td>\n",
       "      <td>1</td>\n",
       "      <td>2</td>\n",
       "      <td>1</td>\n",
       "      <td>2</td>\n",
       "      <td>2</td>\n",
       "    </tr>\n",
       "    <tr>\n",
       "      <th>2</th>\n",
       "      <td>20.88</td>\n",
       "      <td>9.16</td>\n",
       "      <td>-9.575</td>\n",
       "      <td>-22.475</td>\n",
       "      <td>-24.12</td>\n",
       "      <td>-22.28</td>\n",
       "      <td>-18.083333</td>\n",
       "      <td>-20.633333</td>\n",
       "      <td>13.800000</td>\n",
       "      <td>19.600000</td>\n",
       "      <td>...</td>\n",
       "      <td>0</td>\n",
       "      <td>4</td>\n",
       "      <td>0</td>\n",
       "      <td>1</td>\n",
       "      <td>0</td>\n",
       "      <td>3</td>\n",
       "      <td>2</td>\n",
       "      <td>3</td>\n",
       "      <td>0</td>\n",
       "      <td>2</td>\n",
       "    </tr>\n",
       "  </tbody>\n",
       "</table>\n",
       "<p>3 rows × 34 columns</p>\n",
       "</div>"
      ],
      "text/plain": [
       "   diff_gpm5  diff_xpm5  diff_gpm8  diff_xpm8  diff_gpm10  diff_xpm10  \\\n",
       "0     -41.48      -3.60     -6.575     28.250       -8.54       16.82   \n",
       "1     -32.84     -41.00    -17.025    -18.825      -31.62      -38.28   \n",
       "2      20.88       9.16     -9.575    -22.475      -24.12      -22.28   \n",
       "\n",
       "   diff_gpm12  diff_xpm12  diff_gpm15  diff_xpm15  ...  \\\n",
       "0  -18.733333    2.933333    9.426667   16.506667  ...   \n",
       "1  -36.350000  -53.350000   -2.573333  -16.320000  ...   \n",
       "2  -18.083333  -20.633333   13.800000   19.600000  ...   \n",
       "\n",
       "   dire_Core Killer / Tank  dire_Core Pusher / Balanced  \\\n",
       "0                        0                            1   \n",
       "1                        1                            0   \n",
       "2                        0                            4   \n",
       "\n",
       "   dire_Support healer / Tank  dire_Support killer / Squishy  dire_High Farm  \\\n",
       "0                           0                              1               2   \n",
       "1                           0                              1               2   \n",
       "2                           0                              1               0   \n",
       "\n",
       "   dire_Low Farm  dire_Moderate Farm  dire_Early game  dire_Late game  \\\n",
       "0              1                   2                1               2   \n",
       "1              1                   2                1               2   \n",
       "2              3                   2                3               0   \n",
       "\n",
       "   dire_Mid game  \n",
       "0              2  \n",
       "1              2  \n",
       "2              2  \n",
       "\n",
       "[3 rows x 34 columns]"
      ]
     },
     "execution_count": 54,
     "metadata": {},
     "output_type": "execute_result"
    }
   ],
   "source": [
    "#check head of dependant variables for model2\n",
    "X.head(3)"
   ]
  },
  {
   "cell_type": "code",
   "execution_count": 55,
   "metadata": {},
   "outputs": [
    {
     "data": {
      "text/plain": [
       "0    1\n",
       "1    0\n",
       "2    0\n",
       "Name: radiant_win, dtype: int32"
      ]
     },
     "execution_count": 55,
     "metadata": {},
     "output_type": "execute_result"
    }
   ],
   "source": [
    "#check head of independent features \n",
    "y.head(3)"
   ]
  },
  {
   "cell_type": "code",
   "execution_count": 56,
   "metadata": {},
   "outputs": [],
   "source": [
    "#split of train and test sets, with 0.3 test set and random state of 47\n",
    "X_train, X_test, y_train, y_test = train_test_split(X, \n",
    "                                                    y, test_size=0.3, \n",
    "                                                    random_state=47)"
   ]
  },
  {
   "cell_type": "code",
   "execution_count": 57,
   "metadata": {},
   "outputs": [
    {
     "data": {
      "text/plain": [
       "((34943, 34), (14976, 34))"
      ]
     },
     "execution_count": 57,
     "metadata": {},
     "output_type": "execute_result"
    }
   ],
   "source": [
    "#check of shapes of train and test sets for dependent features\n",
    "X_train.shape, X_test.shape"
   ]
  },
  {
   "cell_type": "code",
   "execution_count": 58,
   "metadata": {},
   "outputs": [
    {
     "data": {
      "text/plain": [
       "((34943,), (14976,))"
      ]
     },
     "execution_count": 58,
     "metadata": {},
     "output_type": "execute_result"
    }
   ],
   "source": [
    "#check of shapes of train and test sets for independent feature\n",
    "y_train.shape, y_test.shape"
   ]
  },
  {
   "cell_type": "code",
   "execution_count": 59,
   "metadata": {},
   "outputs": [],
   "source": [
    "#generation of the pipeline for model2\n",
    "RF_pipe2 = make_pipeline(\n",
    "    RandomForestClassifier(random_state=47)\n",
    ")"
   ]
  },
  {
   "cell_type": "code",
   "execution_count": 60,
   "metadata": {},
   "outputs": [],
   "source": [
    "#Call `cross_validate` to estimate the pipeline's performance.\n",
    "#Pass it the random forest pipe object, `X_train` and `y_train`,\n",
    "#and get it to use 5-fold cross-validation\n",
    "rf_default_cv_results2 = cross_validate(RF_pipe2, X_train, y_train, cv=5)"
   ]
  },
  {
   "cell_type": "code",
   "execution_count": 61,
   "metadata": {},
   "outputs": [
    {
     "data": {
      "text/plain": [
       "array([0.6958077 , 0.68879668, 0.69079983, 0.70163137, 0.6974814 ])"
      ]
     },
     "execution_count": 61,
     "metadata": {},
     "output_type": "execute_result"
    }
   ],
   "source": [
    "rf_cv_scores2 = rf_default_cv_results2['test_score']\n",
    "rf_cv_scores2"
   ]
  },
  {
   "cell_type": "markdown",
   "metadata": {},
   "source": [
    "As it was expected, the model including information about gpm and xpm for each team has a much better performance than the first model. This is logical, as we identified in the EDA that advantages in gpm and xpm in winning teams were observable across all game durations.\n",
    "\n",
    "The model, without hyperparameter tunning has a performance of around 69%, we will search for best parameters to improve the model and see if we can obtain a better performance."
   ]
  },
  {
   "cell_type": "code",
   "execution_count": 62,
   "metadata": {
    "scrolled": false
   },
   "outputs": [
    {
     "data": {
      "text/plain": [
       "(0.6949033942699883, 0.00462300117637018)"
      ]
     },
     "execution_count": 62,
     "metadata": {},
     "output_type": "execute_result"
    }
   ],
   "source": [
    "np.mean(rf_cv_scores2), np.std(rf_cv_scores2)"
   ]
  },
  {
   "cell_type": "markdown",
   "metadata": {},
   "source": [
    "### 4.7.2 Improved model\n",
    "#### 4.7.2.1 Hyperparameter search using GridSearchCV\n",
    "\n",
    "We will improve the model by finding the best number of estimators using GridSearchCV"
   ]
  },
  {
   "cell_type": "code",
   "execution_count": 63,
   "metadata": {},
   "outputs": [
    {
     "data": {
      "text/plain": [
       "{'randomforestclassifier__n_estimators': [10,\n",
       "  11,\n",
       "  12,\n",
       "  14,\n",
       "  16,\n",
       "  18,\n",
       "  20,\n",
       "  22,\n",
       "  25,\n",
       "  28,\n",
       "  32,\n",
       "  36,\n",
       "  41,\n",
       "  46,\n",
       "  52,\n",
       "  58,\n",
       "  66,\n",
       "  74,\n",
       "  83,\n",
       "  94,\n",
       "  106,\n",
       "  119,\n",
       "  134,\n",
       "  151,\n",
       "  170,\n",
       "  191,\n",
       "  215,\n",
       "  242,\n",
       "  272,\n",
       "  307,\n",
       "  345,\n",
       "  388,\n",
       "  437,\n",
       "  492,\n",
       "  554,\n",
       "  623,\n",
       "  701,\n",
       "  789,\n",
       "  888,\n",
       "  1000]}"
      ]
     },
     "execution_count": 63,
     "metadata": {},
     "output_type": "execute_result"
    }
   ],
   "source": [
    "n_est = [int(n) for n in np.logspace(start=1, stop=3, num=40)]\n",
    "grid_params = {\n",
    "        'randomforestclassifier__n_estimators': n_est\n",
    "}\n",
    "grid_params"
   ]
  },
  {
   "cell_type": "code",
   "execution_count": 64,
   "metadata": {},
   "outputs": [],
   "source": [
    "#Call `GridSearchCV` with the random forest pipeline, passing in the above `grid_params`\n",
    "#dict for parameters to evaluate, 5-fold cross-validation, and all available CPU cores\n",
    "rf_grid_cv2 = GridSearchCV(RF_pipe2, param_grid=grid_params, cv=5, n_jobs=-1)"
   ]
  },
  {
   "cell_type": "code",
   "execution_count": 65,
   "metadata": {},
   "outputs": [
    {
     "data": {
      "text/plain": [
       "GridSearchCV(cv=5,\n",
       "             estimator=Pipeline(steps=[('randomforestclassifier',\n",
       "                                        RandomForestClassifier(random_state=47))]),\n",
       "             n_jobs=-1,\n",
       "             param_grid={'randomforestclassifier__n_estimators': [10, 11, 12,\n",
       "                                                                  14, 16, 18,\n",
       "                                                                  20, 22, 25,\n",
       "                                                                  28, 32, 36,\n",
       "                                                                  41, 46, 52,\n",
       "                                                                  58, 66, 74,\n",
       "                                                                  83, 94, 106,\n",
       "                                                                  119, 134, 151,\n",
       "                                                                  170, 191, 215,\n",
       "                                                                  242, 272, 307, ...]})"
      ]
     },
     "execution_count": 65,
     "metadata": {},
     "output_type": "execute_result"
    }
   ],
   "source": [
    "#Now call the `GridSearchCV`'s `fit()` method with `X_train` and `y_train` as arguments\n",
    "#to actually start the grid search\n",
    "rf_grid_cv2.fit(X_train, y_train)"
   ]
  },
  {
   "cell_type": "code",
   "execution_count": 66,
   "metadata": {},
   "outputs": [
    {
     "data": {
      "text/plain": [
       "{'randomforestclassifier__n_estimators': 307}"
      ]
     },
     "execution_count": 66,
     "metadata": {},
     "output_type": "execute_result"
    }
   ],
   "source": [
    "#Code task 26#\n",
    "#Print the best params (`best_params_` attribute) from the grid search\n",
    "rf_grid_cv2.best_params_"
   ]
  },
  {
   "cell_type": "code",
   "execution_count": 67,
   "metadata": {
    "scrolled": true
   },
   "outputs": [
    {
     "data": {
      "text/plain": [
       "array([0.69380455, 0.69451996, 0.69208757, 0.70134516, 0.70077275])"
      ]
     },
     "execution_count": 67,
     "metadata": {},
     "output_type": "execute_result"
    }
   ],
   "source": [
    "#cross validate based on 'best_estimator_'\n",
    "rf_best_cv_results2 = cross_validate(rf_grid_cv2.best_estimator_, X_train, y_train, cv=5)\n",
    "rf_best_scores2 = rf_best_cv_results2['test_score']\n",
    "rf_best_scores2"
   ]
  },
  {
   "cell_type": "markdown",
   "metadata": {},
   "source": [
    "We can observe that the model's performance has improved slightly with the hyperparameter tunning. To around 70% of accuracy."
   ]
  },
  {
   "cell_type": "code",
   "execution_count": 68,
   "metadata": {
    "scrolled": true
   },
   "outputs": [
    {
     "data": {
      "text/plain": [
       "(0.6965059985095559, 0.0038049291234300655)"
      ]
     },
     "execution_count": 68,
     "metadata": {},
     "output_type": "execute_result"
    }
   ],
   "source": [
    "np.mean(rf_best_scores2), np.std(rf_best_scores2)"
   ]
  },
  {
   "cell_type": "markdown",
   "metadata": {},
   "source": [
    "#### 4.7.2.2 Feature Importance analysis"
   ]
  },
  {
   "cell_type": "code",
   "execution_count": 69,
   "metadata": {
    "scrolled": true
   },
   "outputs": [
    {
     "data": {
      "image/png": "[encoded data removed]",
      "text/plain": [
       "<Figure size 720x360 with 1 Axes>"
      ]
     },
     "metadata": {
      "needs_background": "light"
     },
     "output_type": "display_data"
    }
   ],
   "source": [
    "#we plot the feature importance in descending order\n",
    "plt.subplots(figsize=(10, 5))\n",
    "imps2 = rf_grid_cv2.best_estimator_.named_steps.randomforestclassifier.feature_importances_\n",
    "rf_feat_imps2 = pd.Series(imps2, index=X_train.columns).sort_values(ascending=False)\n",
    "rf_feat_imps2.plot(kind='bar')\n",
    "plt.xlabel('features')\n",
    "plt.ylabel('importance')\n",
    "plt.title('Best random forest classifier feature importances');"
   ]
  },
  {
   "cell_type": "markdown",
   "metadata": {},
   "source": [
    "The feature importance analysis shows that when the model has access to \"in-game\" metrics it finds them much more useful to predict the winner and loser than the static \"before-game\" information.\n",
    "\n",
    "Also, it is relevant to comment that the model 2 finds more useful information of minute 15 than information of minute 5. Again, this makes sense to the extent that the more we are into the game, the easier is to predict the winner or loser based on their relative advantage in gpm and xpm."
   ]
  },
  {
   "cell_type": "markdown",
   "metadata": {},
   "source": [
    "#### 4.7.2.3 Data Quantity Assessement\n",
    "\n",
    "Finally, we need to understand if it will be useful to undertake further data collection. Would more data be useful? We're often led to believe more data is always good, but gathering data invariably has a cost associated with it. Assess this trade off by seeing how performance varies with differing data set sizes. The `learning_curve` function does this conveniently."
   ]
  },
  {
   "cell_type": "code",
   "execution_count": 70,
   "metadata": {},
   "outputs": [],
   "source": [
    "fractions = [.2, .25, .3, .35, .4, .45, .5, .6, .75, .8, 1.0]\n",
    "train_size, train_scores, test_scores = learning_curve(RF_pipe2, X_train, y_train, train_sizes=fractions)\n",
    "train_scores_mean = np.mean(train_scores, axis=1)\n",
    "train_scores_std = np.std(train_scores, axis=1)\n",
    "test_scores_mean = np.mean(test_scores, axis=1)\n",
    "test_scores_std = np.std(test_scores, axis=1)"
   ]
  },
  {
   "cell_type": "code",
   "execution_count": 71,
   "metadata": {},
   "outputs": [
    {
     "data": {
      "image/png": "[encoded data removed]",
      "text/plain": [
       "<Figure size 720x360 with 1 Axes>"
      ]
     },
     "metadata": {
      "needs_background": "light"
     },
     "output_type": "display_data"
    }
   ],
   "source": [
    "plt.subplots(figsize=(10, 5))\n",
    "plt.errorbar(train_size, test_scores_mean, yerr=test_scores_std)\n",
    "plt.xlabel('Training set size')\n",
    "plt.ylabel('CV scores')\n",
    "plt.title('Cross-validation score as training set size increases');"
   ]
  },
  {
   "cell_type": "markdown",
   "metadata": {},
   "source": [
    "We can observe that the improvement in performance for the cross validation scores does not grow until set sizes of around 22k matches in the training set, and then very slightly after that. It is hard to say if more data will increase the cross validation scores."
   ]
  },
  {
   "cell_type": "markdown",
   "metadata": {},
   "source": [
    "#### 4.7.2.4 Summary\n",
    "\n",
    "The baseline case had an accuracy of around 51 % predicting the winning team. Model 1, including information about heroes selected by each team and a count of their heroe's categories, incrased the accuracy to around 58%.\n",
    "\n",
    "Model 2 excluded information regarding the specific heroes selected by each team and included both a count of heroe's categories for each team and \"in-game\" information regarding gpm and xpm gap on minutes 5, 8, 10, 12 and 15.\n",
    "\n",
    "Model 2's accuracy increased signficantly to around 70%.\n",
    "\n",
    "In relation with feature relevance, Model 2 showed that gpm and xpm information is much more relevant to predict winning team's than any other \"pre-game\" feature included. This is something that we anticipated in the EDA, as the winning teams had in the majority of cases, regardless of game duration, an advantage in gpm and xpm.\n",
    "\n"
   ]
  },
  {
   "cell_type": "markdown",
   "metadata": {},
   "source": [
    "## 4.8 Save of Models"
   ]
  },
  {
   "cell_type": "code",
   "execution_count": 72,
   "metadata": {},
   "outputs": [],
   "source": [
    "#save Model 1\n",
    "best_model1 = rf_grid_cv.best_estimator_\n",
    "best_model1.version = '1.0'\n",
    "best_model1.pandas_version = pd.__version__\n",
    "best_model1.numpy_version = np.__version__\n",
    "best_model1.sklearn_version = sklearn_version\n",
    "best_model1.X_columns = [col for col in X_train.columns]\n",
    "best_model1.build_datetime = datetime.datetime.now()\n",
    "    \n",
    "modelpath = 'models'\n",
    "if not os.path.exists(modelpath):\n",
    "    os.mkdir(modelpath)\n",
    "Dota2_model1 = os.path.join(modelpath, 'Dota2_Model1.pkl')\n",
    "if not os.path.exists(Dota2_model1):\n",
    "    with open(Dota2_model1, 'wb') as f:\n",
    "        pickle.dump(best_model1, f)"
   ]
  },
  {
   "cell_type": "code",
   "execution_count": 73,
   "metadata": {},
   "outputs": [],
   "source": [
    "#save model 2\n",
    "best_model2 = rf_grid_cv2.best_estimator_\n",
    "best_model2.version = '1.0'\n",
    "best_model2.pandas_version = pd.__version__\n",
    "best_model2.numpy_version = np.__version__\n",
    "best_model2.sklearn_version = sklearn_version\n",
    "best_model2.X_columns = [col for col in X_train.columns]\n",
    "best_model2.build_datetime = datetime.datetime.now()\n",
    "    \n",
    "modelpath = 'models'\n",
    "if not os.path.exists(modelpath):\n",
    "    os.mkdir(modelpath)\n",
    "Dota2_model2 = os.path.join(modelpath, 'Dota2_model2.pkl')\n",
    "if not os.path.exists(Dota2_model2):\n",
    "    with open(Dota2_model2, 'wb') as f:\n",
    "        pickle.dump(best_model2, f)"
   ]
  },
  {
   "cell_type": "markdown",
   "metadata": {},
   "source": [
    "## 4.9 Summary and Conclussions - Pre-processing\n",
    "\n",
    "In this step of the analysis, we generated two different models aiming at predicting which team would win the game on different moments of the game.\n",
    "\n",
    "The first model (model1), aimed at predicting the winner at minute 0 of the game, by using only information available at the beginning of the game. The second model (model 2) aimed at predicting the winner before minute 15 of the game, and included information of the games until minute 15 (gpm and xpm gap between teams at minutes 5, 8, 10, 12 and 15).\n",
    "\n",
    "As **baseline case**, to have a reference of how our models were better than random chance, we calculated the proportion of won/lost matches, and concluded that an individual always predicting radiant team as winner, would be right **51% of cases**.\n",
    "\n",
    "* **Model 1 improved** this prediction **to around 58% of cases**; and\n",
    "* **Model 2 further improved** this prediction **to around 70% of cases**.\n",
    "\n",
    "In relation with the pre-processing stage, we conclude that we have generated and saved 2 models, which can be later on used to predict the winner based on the draft "
   ]
  },
  {
   "cell_type": "markdown",
   "metadata": {},
   "source": [
    "## 4.10 Next Steps - Deployment + Improvements\n",
    "\n",
    "In relation with the deployment of the model, we are working on a way to make both models accessible to users through a web interface, so that they can use the models to make predictions based on teams heroes picked as well as information regarding gpm and xpm before minute 15 of the game.\n",
    "\n",
    "Our idea is to work on an platform in which users will be able to both visualize team's compositions based on heroe's functions, farm dependencies and powerspikes, as well as to predict what team will win or lose.\n",
    "\n",
    "In relation with this project, there are many questions that have arised in the Exploratory Data Analysis Stage that are still unanswered and we would like to explore them furthermore in the future, such as:\n",
    "\n",
    "* prediction of game duration;\n",
    "* prediction of skill level of individual players;\n",
    "* prediction of gpm and xpm at certain minutes;\n",
    "* prediction of what items will be more effective;\n",
    "* development of intelligence regarding best and worst heroe picks;\n",
    "* etc.\n",
    "\n",
    "In order to prioritize future developments, we will work with pro-players and Dota2 streamers to consider their input as well as their suscribers' feedback to prioritize developments."
   ]
  }
 ],
 "metadata": {
  "kernelspec": {
   "display_name": "Python 3",
   "language": "python",
   "name": "python3"
  },
  "language_info": {
   "codemirror_mode": {
    "name": "ipython",
    "version": 3
   },
   "file_extension": ".py",
   "mimetype": "text/x-python",
   "name": "python",
   "nbconvert_exporter": "python",
   "pygments_lexer": "ipython3",
   "version": "3.7.6"
  }
 },
 "nbformat": 4,
 "nbformat_minor": 4
}
